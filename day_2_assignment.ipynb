{
 "cells": [
  {
   "cell_type": "code",
   "execution_count": 1,
   "id": "d136b9dc-1fb7-457f-9abf-cf0a26a1ec45",
   "metadata": {},
   "outputs": [
    {
     "name": "stdout",
     "output_type": "stream",
     "text": [
      "First element: 10\n",
      "Third element: 30\n",
      "Last element: 50\n"
     ]
    }
   ],
   "source": [
    "a = [10, 20, 30, 40, 50]\n",
    "print(\"First element:\", a[0])\n",
    "print(\"Third element:\", a[2])\n",
    "print(\"Last element:\", a[-1])\n"
   ]
  },
  {
   "cell_type": "code",
   "execution_count": 2,
   "id": "5aed3e92-25a6-4159-b508-c47bc5c4c180",
   "metadata": {},
   "outputs": [
    {
     "name": "stdout",
     "output_type": "stream",
     "text": [
      "First element: 10\n",
      "Third element: 30\n",
      "Last element: 50\n"
     ]
    }
   ],
   "source": [
    "b = (10, 20, 30, 40, 50)\n",
    "print(\"First element:\", b[0])\n",
    "print(\"Third element:\", b[2])\n",
    "print(\"Last element:\", b[-1])"
   ]
  },
  {
   "cell_type": "code",
   "execution_count": 3,
   "id": "0adfc953-978b-4888-9d3c-66e524e683b7",
   "metadata": {},
   "outputs": [
    {
     "name": "stdout",
     "output_type": "stream",
     "text": [
      "Element with key 'a': 10\n",
      "Element with key 'c': 30\n",
      "Element with key 'e': 50\n"
     ]
    }
   ],
   "source": [
    "c = {'a': 10, 'b': 20, 'c': 30, 'd': 40, 'e': 50}\n",
    "print(\"Element with key 'a':\", c['a'])\n",
    "print(\"Element with key 'c':\", c['c'])\n",
    "print(\"Element with key 'e':\", c['e'])\n"
   ]
  }
 ],
 "metadata": {
  "kernelspec": {
   "display_name": "Python 3 (ipykernel)",
   "language": "python",
   "name": "python3"
  },
  "language_info": {
   "codemirror_mode": {
    "name": "ipython",
    "version": 3
   },
   "file_extension": ".py",
   "mimetype": "text/x-python",
   "name": "python",
   "nbconvert_exporter": "python",
   "pygments_lexer": "ipython3",
   "version": "3.12.7"
  }
 },
 "nbformat": 4,
 "nbformat_minor": 5
}
