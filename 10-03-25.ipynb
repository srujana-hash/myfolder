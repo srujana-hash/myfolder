{
 "cells": [
  {
   "cell_type": "markdown",
   "id": "c2170427-4b9c-47a4-b4c3-179bf25a5a66",
   "metadata": {},
   "source": [
    "### For Classification\n",
    "1)apply smote technique\n",
    "2)build the models\n",
    "  i)logistic regression\n",
    "  ii)decision tree\n",
    "  iii)Random forest\n",
    "  iv)gradient boost\n",
    "  v)ada boost\n",
    "  vi)knn\n",
    "  vii)svm\n",
    "  viii)naive bayes\n",
    "3)Hyper parameter tuning\n",
    "  i)cross validation\n",
    "4)deploy the best model in streamlit or flask"
   ]
  },
  {
   "cell_type": "markdown",
   "id": "af5d3f4f-8fad-49a0-b81d-11a91be274fc",
   "metadata": {},
   "source": [
    "#### For Regression\n",
    "1)apply models\n",
    "  i)linear regression\n",
    "  ii)decision tree\n",
    "  iii)Random forest\n",
    "  iv)gradient boost\n",
    "  v)ada boost\n",
    "  vi)knn\n",
    "  vii)svm\n",
    "2)Hyper parameter tuning\n",
    "  i)cross validation\n",
    "3)deploy the best model in streamlit or flask"
   ]
  },
  {
   "cell_type": "markdown",
   "id": "5f2b009a-9605-4929-80f1-88a164e96b07",
   "metadata": {},
   "source": [
    "#### clustering\n",
    "1)apply the models\n",
    "  i)k-means\n",
    "  ii)DBSCAN\n",
    "  iii)Hierachical\n",
    "2)deploy the best model in streamlit or flask"
   ]
  }
 ],
 "metadata": {
  "kernelspec": {
   "display_name": "Python [conda env:base] *",
   "language": "python",
   "name": "conda-base-py"
  },
  "language_info": {
   "codemirror_mode": {
    "name": "ipython",
    "version": 3
   },
   "file_extension": ".py",
   "mimetype": "text/x-python",
   "name": "python",
   "nbconvert_exporter": "python",
   "pygments_lexer": "ipython3",
   "version": "3.12.7"
  }
 },
 "nbformat": 4,
 "nbformat_minor": 5
}
