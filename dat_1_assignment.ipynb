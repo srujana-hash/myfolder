{
 "cells": [
  {
   "cell_type": "code",
   "execution_count": 1,
   "id": "e356fdd8-ace6-4e2b-a6f8-470afe3bbf14",
   "metadata": {},
   "outputs": [
    {
     "name": "stdout",
     "output_type": "stream",
     "text": [
      "Integer: 10 Type: <class 'int'>\n",
      "Float: 3.14 Type: <class 'float'>\n",
      "String: Hello, World! Type: <class 'str'>\n",
      "Boolean: True Type: <class 'bool'>\n"
     ]
    }
   ],
   "source": [
    "a = 10\n",
    "b = 3.14\n",
    "c = \"Hello, World!\"\n",
    "d = True\n",
    "print(\"Integer:\", a, \"Type:\", type(a))\n",
    "print(\"Float:\", b, \"Type:\", type(b))\n",
    "print(\"String:\", c, \"Type:\", type(c))\n",
    "print(\"Boolean:\", d, \"Type:\", type(d))\n"
   ]
  },
  {
   "cell_type": "code",
   "execution_count": null,
   "id": "c5fb4ae7-3e96-4738-a6e0-10900ba6da06",
   "metadata": {},
   "outputs": [],
   "source": []
  }
 ],
 "metadata": {
  "kernelspec": {
   "display_name": "Python 3 (ipykernel)",
   "language": "python",
   "name": "python3"
  },
  "language_info": {
   "codemirror_mode": {
    "name": "ipython",
    "version": 3
   },
   "file_extension": ".py",
   "mimetype": "text/x-python",
   "name": "python",
   "nbconvert_exporter": "python",
   "pygments_lexer": "ipython3",
   "version": "3.12.7"
  }
 },
 "nbformat": 4,
 "nbformat_minor": 5
}
