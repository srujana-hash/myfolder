{
 "cells": [
  {
   "cell_type": "markdown",
   "id": "9ddb1759-57e7-476c-931b-6259762018a1",
   "metadata": {},
   "source": [
    "int\n",
    "float\n",
    "string \n",
    "boolean\n",
    "complex\n"
   ]
  },
  {
   "cell_type": "code",
   "execution_count": null,
   "id": "02d2edf1-ef4f-4e2b-88ca-26f428fc1ae8",
   "metadata": {},
   "outputs": [],
   "source": [
    "a =5\n",
    "type(a)"
   ]
  },
  {
   "cell_type": "code",
   "execution_count": null,
   "id": "717f80c6-6a60-4d25-ad1b-617dab1432c9",
   "metadata": {},
   "outputs": [],
   "source": [
    "y = 326.143\n",
    "type(y)"
   ]
  },
  {
   "cell_type": "code",
   "execution_count": null,
   "id": "bc6b7215-0861-4728-ba57-5aeaf6388eb9",
   "metadata": {
    "scrolled": true
   },
   "outputs": [],
   "source": [
    "b = 'malla reddy'\n",
    "type(b)"
   ]
  },
  {
   "cell_type": "code",
   "execution_count": null,
   "id": "a6656d02-3312-4991-9f74-bdb0ed46a4ab",
   "metadata": {},
   "outputs": [],
   "source": [
    "x=True\n",
    "type(x)"
   ]
  },
  {
   "cell_type": "code",
   "execution_count": null,
   "id": "71f059e1-1bb3-41a6-8835-fd5bd9b88418",
   "metadata": {},
   "outputs": [],
   "source": [
    "t = 7+3j\n",
    "type(t)"
   ]
  },
  {
   "cell_type": "code",
   "execution_count": null,
   "id": "14766004-754c-4afc-b876-20d8acdb10ab",
   "metadata": {},
   "outputs": [],
   "source": [
    "a=67\n",
    "a"
   ]
  },
  {
   "cell_type": "code",
   "execution_count": null,
   "id": "c04618b0-a550-474f-9e24-b4c0e6db31a7",
   "metadata": {},
   "outputs": [],
   "source": [
    "type(a)"
   ]
  },
  {
   "cell_type": "code",
   "execution_count": null,
   "id": "4997110d-2dd8-41d2-8775-bccdd77a380a",
   "metadata": {},
   "outputs": [],
   "source": [
    "b=32.89\n",
    "b"
   ]
  },
  {
   "cell_type": "code",
   "execution_count": null,
   "id": "c77a2643-f97f-4f3c-be3a-363008d2222f",
   "metadata": {},
   "outputs": [],
   "source": [
    "type(b)"
   ]
  },
  {
   "cell_type": "code",
   "execution_count": null,
   "id": "1bcf6ee5-474a-48ba-a3e3-7655c8d79090",
   "metadata": {},
   "outputs": [],
   "source": [
    "c= 'srujana'\n",
    "c"
   ]
  },
  {
   "cell_type": "code",
   "execution_count": null,
   "id": "e483f4f9-c7db-46b8-9871-7afd6cce2a84",
   "metadata": {},
   "outputs": [],
   "source": [
    "type(c)"
   ]
  },
  {
   "cell_type": "code",
   "execution_count": null,
   "id": "5e6e2e4a-4473-4d21-a89f-f0e67014825d",
   "metadata": {},
   "outputs": [],
   "source": [
    "d = False\n",
    "d"
   ]
  },
  {
   "cell_type": "code",
   "execution_count": null,
   "id": "3a3b08cc-02ae-470d-841a-172bef338015",
   "metadata": {},
   "outputs": [],
   "source": [
    "type(d)"
   ]
  },
  {
   "cell_type": "code",
   "execution_count": null,
   "id": "71da811c-0b8f-4402-ba34-a8a8acff7f64",
   "metadata": {},
   "outputs": [],
   "source": [
    "s = 'kasimkota'\n",
    "s"
   ]
  },
  {
   "cell_type": "code",
   "execution_count": null,
   "id": "2bbcfad5-5f01-4a63-a258-3224cdc1fb02",
   "metadata": {},
   "outputs": [],
   "source": [
    "type(s)"
   ]
  },
  {
   "cell_type": "code",
   "execution_count": null,
   "id": "b1e94727-9cfa-4c62-9507-31338a8e4174",
   "metadata": {},
   "outputs": [],
   "source": [
    "s + c"
   ]
  },
  {
   "cell_type": "code",
   "execution_count": null,
   "id": "d6e71484-dfe1-4ea1-a2f4-2e22bc3549e7",
   "metadata": {},
   "outputs": [],
   "source": [
    "a"
   ]
  },
  {
   "cell_type": "code",
   "execution_count": null,
   "id": "ccb30e86-430a-45d8-8c59-5184166b74ff",
   "metadata": {},
   "outputs": [],
   "source": [
    "b"
   ]
  },
  {
   "cell_type": "code",
   "execution_count": null,
   "id": "f2f2afe6-bb4e-40fd-aa2f-87ca125c806d",
   "metadata": {},
   "outputs": [],
   "source": [
    "a+b"
   ]
  },
  {
   "cell_type": "code",
   "execution_count": null,
   "id": "de348a02-4000-46a2-953e-a786a56c2515",
   "metadata": {},
   "outputs": [],
   "source": [
    "e=3\n",
    "f=4\n",
    "g=5\n",
    "h=6\n",
    "i=7\n",
    "j=8\n",
    "k=9\n",
    "l=456\n",
    "m=87\n",
    "n=788\n"
   ]
  },
  {
   "cell_type": "code",
   "execution_count": null,
   "id": "7250315d-913b-47cb-8181-69fe25f603af",
   "metadata": {},
   "outputs": [],
   "source": [
    "e=3\n",
    "e"
   ]
  },
  {
   "cell_type": "code",
   "execution_count": null,
   "id": "9a7012e0-70ec-404a-b3ed-636e1fae88e7",
   "metadata": {},
   "outputs": [],
   "source": [
    "f=4\n",
    "f"
   ]
  },
  {
   "cell_type": "code",
   "execution_count": null,
   "id": "e37aee27-2a48-45f3-ab66-c58f109df0cb",
   "metadata": {},
   "outputs": [],
   "source": [
    "g=5\n",
    "g"
   ]
  },
  {
   "cell_type": "code",
   "execution_count": null,
   "id": "61c28581-47b8-4e6b-a7ce-f789db7667c2",
   "metadata": {},
   "outputs": [],
   "source": [
    "h=6\n",
    "h"
   ]
  },
  {
   "cell_type": "code",
   "execution_count": null,
   "id": "02be8f86-6002-434f-9e03-464b1dc4061a",
   "metadata": {},
   "outputs": [],
   "source": [
    "i=7\n",
    "i"
   ]
  },
  {
   "cell_type": "code",
   "execution_count": null,
   "id": "902a93f7-46dd-4072-a930-8919bb35c321",
   "metadata": {},
   "outputs": [],
   "source": [
    "j=8\n",
    "j"
   ]
  },
  {
   "cell_type": "code",
   "execution_count": null,
   "id": "cce3b8bc-60ee-48f6-8821-c7e0aa5165be",
   "metadata": {},
   "outputs": [],
   "source": [
    "k=9\n",
    "k"
   ]
  },
  {
   "cell_type": "code",
   "execution_count": null,
   "id": "33f6c5ab-4176-4216-ae46-d68091ba5ca8",
   "metadata": {},
   "outputs": [],
   "source": [
    "l=456\n",
    "l"
   ]
  },
  {
   "cell_type": "code",
   "execution_count": null,
   "id": "622f65a8-a098-476b-af8d-7f3aca841a57",
   "metadata": {},
   "outputs": [],
   "source": [
    "m=87\n",
    "m"
   ]
  },
  {
   "cell_type": "code",
   "execution_count": null,
   "id": "fd5fcf00-bcae-481e-aca7-8bb095d0a3cc",
   "metadata": {},
   "outputs": [],
   "source": [
    "n=788\n",
    "n"
   ]
  },
  {
   "cell_type": "code",
   "execution_count": null,
   "id": "60652059-0e30-4253-9f1a-533c6df7b5fc",
   "metadata": {},
   "outputs": [],
   "source": [
    "e+f"
   ]
  },
  {
   "cell_type": "code",
   "execution_count": null,
   "id": "1f02a68f-9cd2-4fae-8fa5-875c171df6ae",
   "metadata": {},
   "outputs": [],
   "source": [
    "g+h"
   ]
  },
  {
   "cell_type": "code",
   "execution_count": null,
   "id": "a186b8e4-626d-4354-9aaa-d12eb433571c",
   "metadata": {},
   "outputs": [],
   "source": [
    "i+j"
   ]
  },
  {
   "cell_type": "code",
   "execution_count": null,
   "id": "e82a5638-7876-4b93-8804-8a2364171f12",
   "metadata": {},
   "outputs": [],
   "source": [
    "k+l"
   ]
  },
  {
   "cell_type": "code",
   "execution_count": null,
   "id": "7e946c3d-6acf-4f5b-97a1-548cf74dc62e",
   "metadata": {},
   "outputs": [],
   "source": [
    "m+n"
   ]
  },
  {
   "cell_type": "code",
   "execution_count": null,
   "id": "a17b01bf-7ae3-4ca7-8aba-26badefb79ee",
   "metadata": {},
   "outputs": [],
   "source": [
    "o = 'sru'\n",
    "p = 'rk'\n",
    "q = 'divi'\n",
    "r = 'meena'\n",
    "s = 'prerana'\n",
    "t = 'teja'\n",
    "u = 'raj'\n",
    "v = 'yeshu'\n",
    "w = 'sanjana'\n",
    "z = 'sarayu'"
   ]
  },
  {
   "cell_type": "code",
   "execution_count": null,
   "id": "a4ec0b6d-4299-400c-a265-3fb800820eef",
   "metadata": {},
   "outputs": [],
   "source": [
    "o = 'sru'\n",
    "o"
   ]
  },
  {
   "cell_type": "code",
   "execution_count": null,
   "id": "f0997638-2c9d-4dfe-9fad-25e9cf74181f",
   "metadata": {},
   "outputs": [],
   "source": [
    "p = 'rk'\n",
    "p"
   ]
  },
  {
   "cell_type": "code",
   "execution_count": null,
   "id": "251f6eec-a770-4b76-a738-1014a8bd0288",
   "metadata": {},
   "outputs": [],
   "source": [
    "q = 'divi'\n",
    "q"
   ]
  },
  {
   "cell_type": "code",
   "execution_count": null,
   "id": "801c4b35-1601-4c1b-87e9-97e39d00a79d",
   "metadata": {},
   "outputs": [],
   "source": [
    "r = 'meena'\n",
    "r"
   ]
  },
  {
   "cell_type": "code",
   "execution_count": null,
   "id": "088c2971-b9de-47f0-a7bb-f02030df6795",
   "metadata": {},
   "outputs": [],
   "source": [
    "s = 'prerana'\n",
    "s"
   ]
  },
  {
   "cell_type": "code",
   "execution_count": null,
   "id": "9caf9fe6-c0f1-43c5-9427-a9a1196debb0",
   "metadata": {},
   "outputs": [],
   "source": [
    "t = 'teja'\n",
    "t"
   ]
  },
  {
   "cell_type": "code",
   "execution_count": null,
   "id": "e87128b8-9f56-434d-bccb-f96fd5d0fbf1",
   "metadata": {},
   "outputs": [],
   "source": [
    "u = 'raj'\n",
    "u"
   ]
  },
  {
   "cell_type": "code",
   "execution_count": null,
   "id": "024950fb-ce95-456c-9278-729b87d67267",
   "metadata": {},
   "outputs": [],
   "source": [
    "v = 'yeshu'\n",
    "v"
   ]
  },
  {
   "cell_type": "code",
   "execution_count": null,
   "id": "3f91d592-d1c0-44db-a1c2-3e66cd3d582a",
   "metadata": {},
   "outputs": [],
   "source": [
    "w = 'sanjana'\n",
    "w"
   ]
  },
  {
   "cell_type": "code",
   "execution_count": null,
   "id": "d025c0f1-e21b-4e4e-a72d-d7d4f2546d45",
   "metadata": {},
   "outputs": [],
   "source": [
    "z = 'sarayu'\n",
    "z"
   ]
  },
  {
   "cell_type": "code",
   "execution_count": null,
   "id": "a4acc1b1-5f13-4454-9dc4-276f0c8f88b3",
   "metadata": {},
   "outputs": [],
   "source": [
    "o+p+q+r+s+t"
   ]
  },
  {
   "cell_type": "code",
   "execution_count": null,
   "id": "80e58255-043d-4bb0-bc90-e1b8c3fb88e9",
   "metadata": {},
   "outputs": [],
   "source": [
    "u+v"
   ]
  },
  {
   "cell_type": "markdown",
   "id": "5992f660-1cb7-4885-99d0-7e3ded603dff",
   "metadata": {},
   "source": [
    "#   3-1-25"
   ]
  },
  {
   "cell_type": "markdown",
   "id": "6666a893-f287-450b-ae62-fdfb00b8b764",
   "metadata": {},
   "source": [
    "### addition  +\n",
    "### substraction  -\n",
    "### multiplication  *\n",
    "### division  /\n",
    "### remainder  %\n",
    "### power  **\n",
    "### //  floor division\n"
   ]
  },
  {
   "cell_type": "code",
   "execution_count": 132,
   "id": "d090d75c-23e6-4817-bc3a-1962b4681786",
   "metadata": {},
   "outputs": [
    {
     "data": {
      "text/plain": [
       "112"
      ]
     },
     "execution_count": 132,
     "metadata": {},
     "output_type": "execute_result"
    }
   ],
   "source": [
    "a=109\n",
    "b=3\n",
    "c= a+b\n",
    "c"
   ]
  },
  {
   "cell_type": "code",
   "execution_count": 124,
   "id": "f63b0184-e6a3-47ce-b002-505313563219",
   "metadata": {},
   "outputs": [
    {
     "data": {
      "text/plain": [
       "int"
      ]
     },
     "execution_count": 124,
     "metadata": {},
     "output_type": "execute_result"
    }
   ],
   "source": [
    "type(c)"
   ]
  },
  {
   "cell_type": "code",
   "execution_count": 134,
   "id": "d0d2fb56-d51b-4beb-b666-5b051925a781",
   "metadata": {},
   "outputs": [
    {
     "data": {
      "text/plain": [
       "327"
      ]
     },
     "execution_count": 134,
     "metadata": {},
     "output_type": "execute_result"
    }
   ],
   "source": [
    "d= a*b\n",
    "d"
   ]
  },
  {
   "cell_type": "code",
   "execution_count": 136,
   "id": "8af88ce1-fd2d-4b54-97d1-8ef19a4414aa",
   "metadata": {},
   "outputs": [
    {
     "data": {
      "text/plain": [
       "int"
      ]
     },
     "execution_count": 136,
     "metadata": {},
     "output_type": "execute_result"
    }
   ],
   "source": [
    "type(d)"
   ]
  },
  {
   "cell_type": "code",
   "execution_count": 140,
   "id": "cfe1564a-0011-46a4-b0e5-0ca2e250e763",
   "metadata": {},
   "outputs": [
    {
     "data": {
      "text/plain": [
       "36.333333333333336"
      ]
     },
     "execution_count": 140,
     "metadata": {},
     "output_type": "execute_result"
    }
   ],
   "source": [
    "z=a/b\n",
    "a/b"
   ]
  },
  {
   "cell_type": "code",
   "execution_count": 142,
   "id": "05c48539-0d71-40cd-bb1a-0f61c7e6fbd1",
   "metadata": {},
   "outputs": [
    {
     "data": {
      "text/plain": [
       "float"
      ]
     },
     "execution_count": 142,
     "metadata": {},
     "output_type": "execute_result"
    }
   ],
   "source": [
    "type(z)"
   ]
  },
  {
   "cell_type": "code",
   "execution_count": null,
   "id": "51ba12c8-ba1b-4ca5-a55f-a7c525ee4847",
   "metadata": {},
   "outputs": [],
   "source": []
  },
  {
   "cell_type": "markdown",
   "id": "22071f3f-6610-46b4-96a2-16cc79542de4",
   "metadata": {},
   "source": [
    "> < >= <= == !=\n"
   ]
  },
  {
   "cell_type": "code",
   "execution_count": null,
   "id": "ae282823-20a9-46ad-894f-5d7915fb2fc4",
   "metadata": {},
   "outputs": [],
   "source": [
    "a=45\n",
    "b=32"
   ]
  },
  {
   "cell_type": "code",
   "execution_count": 149,
   "id": "4e5f93a1-bbb1-4050-8e42-5ff2ea98c253",
   "metadata": {},
   "outputs": [
    {
     "data": {
      "text/plain": [
       "True"
      ]
     },
     "execution_count": 149,
     "metadata": {},
     "output_type": "execute_result"
    }
   ],
   "source": [
    "a>b"
   ]
  },
  {
   "cell_type": "code",
   "execution_count": 151,
   "id": "a0793580-f1b7-4412-9a83-d3705b85637c",
   "metadata": {},
   "outputs": [
    {
     "data": {
      "text/plain": [
       "False"
      ]
     },
     "execution_count": 151,
     "metadata": {},
     "output_type": "execute_result"
    }
   ],
   "source": [
    "a<b"
   ]
  },
  {
   "cell_type": "code",
   "execution_count": 153,
   "id": "78dcf408-0110-4843-9904-a7d3f79a8c39",
   "metadata": {},
   "outputs": [
    {
     "data": {
      "text/plain": [
       "True"
      ]
     },
     "execution_count": 153,
     "metadata": {},
     "output_type": "execute_result"
    }
   ],
   "source": [
    "a>=b"
   ]
  },
  {
   "cell_type": "code",
   "execution_count": 155,
   "id": "43431886-78e9-4634-be8f-565704ae1af7",
   "metadata": {},
   "outputs": [
    {
     "data": {
      "text/plain": [
       "False"
      ]
     },
     "execution_count": 155,
     "metadata": {},
     "output_type": "execute_result"
    }
   ],
   "source": [
    "a<=b"
   ]
  },
  {
   "cell_type": "code",
   "execution_count": 159,
   "id": "6e37177e-8bd4-43f4-8a0e-2f7b9af9aac9",
   "metadata": {},
   "outputs": [
    {
     "data": {
      "text/plain": [
       "False"
      ]
     },
     "execution_count": 159,
     "metadata": {},
     "output_type": "execute_result"
    }
   ],
   "source": [
    "a==b"
   ]
  },
  {
   "cell_type": "code",
   "execution_count": 157,
   "id": "ae68188d-e6fa-47f2-9e98-2f7232e3cd64",
   "metadata": {},
   "outputs": [
    {
     "data": {
      "text/plain": [
       "True"
      ]
     },
     "execution_count": 157,
     "metadata": {},
     "output_type": "execute_result"
    }
   ],
   "source": [
    "a!=b"
   ]
  },
  {
   "cell_type": "markdown",
   "id": "03928293-3751-4add-8d87-8fef83faf767",
   "metadata": {},
   "source": [
    "# 6-1-2025"
   ]
  },
  {
   "cell_type": "code",
   "execution_count": 2,
   "id": "e755842b-edeb-4a54-9c41-3c8200240a78",
   "metadata": {},
   "outputs": [
    {
     "data": {
      "text/plain": [
       "[23, 34, 45, 56, 67]"
      ]
     },
     "execution_count": 2,
     "metadata": {},
     "output_type": "execute_result"
    }
   ],
   "source": [
    "a= [23,34,45,56,67 ]\n",
    "a"
   ]
  },
  {
   "cell_type": "code",
   "execution_count": 6,
   "id": "c50ce0a6-a2c2-436e-a60d-73e10e4f6eaa",
   "metadata": {},
   "outputs": [
    {
     "data": {
      "text/plain": [
       "list"
      ]
     },
     "execution_count": 6,
     "metadata": {},
     "output_type": "execute_result"
    }
   ],
   "source": [
    "type(a)"
   ]
  },
  {
   "cell_type": "code",
   "execution_count": 10,
   "id": "8472e458-2794-4f9b-ad45-79d008cf7449",
   "metadata": {},
   "outputs": [
    {
     "data": {
      "text/plain": [
       "[203, 'Hyderabad', 45, True, False, 78, 175, 34.9]"
      ]
     },
     "execution_count": 10,
     "metadata": {},
     "output_type": "execute_result"
    }
   ],
   "source": [
    "c = [203,'Hyderabad',45,True,False,78,175,34.9]\n",
    "c"
   ]
  },
  {
   "cell_type": "code",
   "execution_count": 12,
   "id": "27254dbb-07ad-47c7-84c4-32a5caa59def",
   "metadata": {},
   "outputs": [
    {
     "data": {
      "text/plain": [
       "203"
      ]
     },
     "execution_count": 12,
     "metadata": {},
     "output_type": "execute_result"
    }
   ],
   "source": [
    "c[0]"
   ]
  },
  {
   "cell_type": "code",
   "execution_count": 16,
   "id": "8bed4514-9387-4d6b-9777-2365813671d3",
   "metadata": {},
   "outputs": [
    {
     "data": {
      "text/plain": [
       "'Hyderabad'"
      ]
     },
     "execution_count": 16,
     "metadata": {},
     "output_type": "execute_result"
    }
   ],
   "source": [
    "c[1]"
   ]
  },
  {
   "cell_type": "code",
   "execution_count": 18,
   "id": "fddf8a65-ef6e-44d0-9ceb-ee24fcb8bb1b",
   "metadata": {},
   "outputs": [
    {
     "data": {
      "text/plain": [
       "45"
      ]
     },
     "execution_count": 18,
     "metadata": {},
     "output_type": "execute_result"
    }
   ],
   "source": [
    "c[2]"
   ]
  },
  {
   "cell_type": "code",
   "execution_count": 20,
   "id": "27fc0b6a-8d0b-411f-971b-aa88f919e6fe",
   "metadata": {},
   "outputs": [
    {
     "data": {
      "text/plain": [
       "True"
      ]
     },
     "execution_count": 20,
     "metadata": {},
     "output_type": "execute_result"
    }
   ],
   "source": [
    "c[3]"
   ]
  },
  {
   "cell_type": "code",
   "execution_count": 22,
   "id": "e1c1f0fa-b883-4244-af28-7b3000815f81",
   "metadata": {},
   "outputs": [
    {
     "data": {
      "text/plain": [
       "False"
      ]
     },
     "execution_count": 22,
     "metadata": {},
     "output_type": "execute_result"
    }
   ],
   "source": [
    "c[4]"
   ]
  },
  {
   "cell_type": "code",
   "execution_count": 24,
   "id": "667da007-8820-4939-a35f-a013c5e04064",
   "metadata": {},
   "outputs": [
    {
     "data": {
      "text/plain": [
       "78"
      ]
     },
     "execution_count": 24,
     "metadata": {},
     "output_type": "execute_result"
    }
   ],
   "source": [
    "c[5]"
   ]
  },
  {
   "cell_type": "code",
   "execution_count": 26,
   "id": "689da4a6-38e1-4161-80f7-cbdd3ce0cd2e",
   "metadata": {},
   "outputs": [
    {
     "data": {
      "text/plain": [
       "175"
      ]
     },
     "execution_count": 26,
     "metadata": {},
     "output_type": "execute_result"
    }
   ],
   "source": [
    "c[6]"
   ]
  },
  {
   "cell_type": "code",
   "execution_count": 28,
   "id": "9f5069a5-c854-4473-b8bf-7b682fbddb80",
   "metadata": {},
   "outputs": [
    {
     "data": {
      "text/plain": [
       "34.9"
      ]
     },
     "execution_count": 28,
     "metadata": {},
     "output_type": "execute_result"
    }
   ],
   "source": [
    "c[7]"
   ]
  },
  {
   "cell_type": "code",
   "execution_count": 32,
   "id": "0aa2ced6-359d-4812-8d17-f6ad6b43ae45",
   "metadata": {},
   "outputs": [
    {
     "data": {
      "text/plain": [
       "[203, 45, False, 175]"
      ]
     },
     "execution_count": 32,
     "metadata": {},
     "output_type": "execute_result"
    }
   ],
   "source": [
    "c[0:8:2]"
   ]
  },
  {
   "cell_type": "markdown",
   "id": "74071dfd-c216-4833-b8fd-8a70e2835893",
   "metadata": {},
   "source": [
    "start : end : step"
   ]
  },
  {
   "cell_type": "code",
   "execution_count": 34,
   "id": "ee330a97-04b9-409d-b8ca-9345466557d7",
   "metadata": {},
   "outputs": [
    {
     "data": {
      "text/plain": [
       "[203, False]"
      ]
     },
     "execution_count": 34,
     "metadata": {},
     "output_type": "execute_result"
    }
   ],
   "source": [
    "c[0:8:4]"
   ]
  },
  {
   "cell_type": "code",
   "execution_count": 36,
   "id": "b5d480f4-067b-48fc-9029-fdfbbd4e3b5b",
   "metadata": {},
   "outputs": [
    {
     "data": {
      "text/plain": [
       "45"
      ]
     },
     "execution_count": 36,
     "metadata": {},
     "output_type": "execute_result"
    }
   ],
   "source": [
    "c[-6]"
   ]
  },
  {
   "cell_type": "code",
   "execution_count": 38,
   "id": "ad241ff3-9da8-4941-89e4-65fcbc284a4d",
   "metadata": {},
   "outputs": [
    {
     "data": {
      "text/plain": [
       "175"
      ]
     },
     "execution_count": 38,
     "metadata": {},
     "output_type": "execute_result"
    }
   ],
   "source": [
    "c[-2]"
   ]
  },
  {
   "cell_type": "code",
   "execution_count": 42,
   "id": "f143baf1-2e6d-4d4f-96c8-83abd7479f26",
   "metadata": {},
   "outputs": [
    {
     "data": {
      "text/plain": [
       "[False, True, 45, 'Hyderabad']"
      ]
     },
     "execution_count": 42,
     "metadata": {},
     "output_type": "execute_result"
    }
   ],
   "source": [
    "c[-4:-8:-1]"
   ]
  },
  {
   "cell_type": "code",
   "execution_count": 44,
   "id": "bf1c8ad8-41a1-440d-a1b1-dd3ffd207a69",
   "metadata": {},
   "outputs": [
    {
     "data": {
      "text/plain": [
       "['Hyderabad', 45, True, False]"
      ]
     },
     "execution_count": 44,
     "metadata": {},
     "output_type": "execute_result"
    }
   ],
   "source": [
    "c[1:5]"
   ]
  },
  {
   "cell_type": "code",
   "execution_count": 47,
   "id": "e06cdfeb-6809-48e0-9875-756e28feb7a1",
   "metadata": {},
   "outputs": [
    {
     "data": {
      "text/plain": [
       "[175, 78, False, True, 45]"
      ]
     },
     "execution_count": 47,
     "metadata": {},
     "output_type": "execute_result"
    }
   ],
   "source": [
    "c[-2:-7:-1]"
   ]
  },
  {
   "cell_type": "code",
   "execution_count": 49,
   "id": "763698a5-b3ee-4195-89fe-45cd82a962f4",
   "metadata": {},
   "outputs": [
    {
     "data": {
      "text/plain": [
       "[175, 78, False, True]"
      ]
     },
     "execution_count": 49,
     "metadata": {},
     "output_type": "execute_result"
    }
   ],
   "source": [
    "c[6:2:-1]"
   ]
  },
  {
   "cell_type": "markdown",
   "id": "196cb291-9a6b-4fae-92e9-d6a1b9c15b29",
   "metadata": {},
   "source": [
    "# list  methods"
   ]
  },
  {
   "cell_type": "markdown",
   "id": "c2bb71de-5301-40b8-9500-c10c67f6c3ff",
   "metadata": {},
   "source": [
    "#### append \n",
    "#### insert\n",
    "#### extend\n",
    "#### pop\n",
    "#### remove\n",
    "#### clear\n",
    "#### count"
   ]
  },
  {
   "cell_type": "code",
   "execution_count": 55,
   "id": "8894175b-f79c-40c6-a6d8-8ddda6e0d05a",
   "metadata": {},
   "outputs": [
    {
     "data": {
      "text/plain": [
       "[203, 'Hyderabad', 45, True, False, 78, 175, 34.9, 80, 80]"
      ]
     },
     "execution_count": 55,
     "metadata": {},
     "output_type": "execute_result"
    }
   ],
   "source": [
    "c.append(80)\n",
    "c"
   ]
  },
  {
   "cell_type": "code",
   "execution_count": 65,
   "id": "1d30cef0-3007-452f-b85a-4c96796dcc70",
   "metadata": {},
   "outputs": [
    {
     "data": {
      "text/plain": [
       "[203, 90, 90, 90, 90, 'Hyderabad', 45, True, False, 78, 175, 34.9, 80, 80]"
      ]
     },
     "execution_count": 65,
     "metadata": {},
     "output_type": "execute_result"
    }
   ],
   "source": [
    "c.insert(1,90)\n",
    "c"
   ]
  },
  {
   "cell_type": "code",
   "execution_count": 77,
   "id": "15115ca5-d98c-4491-b265-c1912290742c",
   "metadata": {},
   "outputs": [
    {
     "data": {
      "text/plain": [
       "True"
      ]
     },
     "execution_count": 77,
     "metadata": {},
     "output_type": "execute_result"
    }
   ],
   "source": [
    "c.pop(6)"
   ]
  },
  {
   "cell_type": "code",
   "execution_count": 79,
   "id": "94968417-1682-4c68-bd85-21479e04e06b",
   "metadata": {},
   "outputs": [
    {
     "data": {
      "text/plain": [
       "[203, 90, 90, 90, 90, 'Hyderabad', False, 78, 175, 34.9, 80, 80]"
      ]
     },
     "execution_count": 79,
     "metadata": {},
     "output_type": "execute_result"
    }
   ],
   "source": [
    "c"
   ]
  },
  {
   "cell_type": "code",
   "execution_count": 89,
   "id": "4b5fb13e-ec14-4c3b-bd6f-90df906d4034",
   "metadata": {},
   "outputs": [],
   "source": [
    "c.remove(78)"
   ]
  },
  {
   "cell_type": "code",
   "execution_count": 91,
   "id": "92fc2930-2e8d-49e9-bc4e-451fb62b0eff",
   "metadata": {},
   "outputs": [
    {
     "data": {
      "text/plain": [
       "[203, 90, 90, 90, 90, 'Hyderabad', False, 175, 34.9, 80, 80]"
      ]
     },
     "execution_count": 91,
     "metadata": {},
     "output_type": "execute_result"
    }
   ],
   "source": [
    "c"
   ]
  },
  {
   "cell_type": "code",
   "execution_count": 103,
   "id": "ef264c7c-4e7e-4b06-98c6-3b2f438d1932",
   "metadata": {},
   "outputs": [
    {
     "data": {
      "text/plain": [
       "1"
      ]
     },
     "execution_count": 103,
     "metadata": {},
     "output_type": "execute_result"
    }
   ],
   "source": [
    "c.count(203)"
   ]
  },
  {
   "cell_type": "code",
   "execution_count": 96,
   "id": "bd5a8914-6357-45b2-9bdb-a0e016b4acc5",
   "metadata": {},
   "outputs": [],
   "source": [
    "c.extend([45,78,90,34])"
   ]
  },
  {
   "cell_type": "code",
   "execution_count": 98,
   "id": "92886d48-87f3-4d35-a812-35a6bcf8efbe",
   "metadata": {},
   "outputs": [
    {
     "data": {
      "text/plain": [
       "[203, 90, 90, 90, 90, 'Hyderabad', False, 175, 34.9, 80, 80, 45, 78, 90, 34]"
      ]
     },
     "execution_count": 98,
     "metadata": {},
     "output_type": "execute_result"
    }
   ],
   "source": [
    "c"
   ]
  },
  {
   "cell_type": "markdown",
   "id": "552c52f3-7d8c-45d4-b376-532c9b65d609",
   "metadata": {},
   "source": [
    "# 07/01/25"
   ]
  },
  {
   "cell_type": "code",
   "execution_count": 4,
   "id": "620bf4ba-5cb6-4bf8-b8e6-89e742c90428",
   "metadata": {},
   "outputs": [
    {
     "data": {
      "text/plain": [
       "(90, 70, 50, 30, 20)"
      ]
     },
     "execution_count": 4,
     "metadata": {},
     "output_type": "execute_result"
    }
   ],
   "source": [
    "h = (90, 70, 50, 30, 20)\n",
    "h"
   ]
  },
  {
   "cell_type": "code",
   "execution_count": 6,
   "id": "9ef7f211-793f-4199-8924-3bf44a227295",
   "metadata": {},
   "outputs": [
    {
     "data": {
      "text/plain": [
       "1"
      ]
     },
     "execution_count": 6,
     "metadata": {},
     "output_type": "execute_result"
    }
   ],
   "source": [
    "h.count(90)"
   ]
  },
  {
   "cell_type": "code",
   "execution_count": 10,
   "id": "7311d595-9651-4894-9392-1f6e9c7cde24",
   "metadata": {},
   "outputs": [
    {
     "data": {
      "text/plain": [
       "3"
      ]
     },
     "execution_count": 10,
     "metadata": {},
     "output_type": "execute_result"
    }
   ],
   "source": [
    "h.index(30)"
   ]
  },
  {
   "cell_type": "code",
   "execution_count": null,
   "id": "6f3e7d28-d05a-489e-978b-a3cac27d53af",
   "metadata": {},
   "outputs": [],
   "source": []
  }
 ],
 "metadata": {
  "kernelspec": {
   "display_name": "Python [conda env:base] *",
   "language": "python",
   "name": "conda-base-py"
  },
  "language_info": {
   "codemirror_mode": {
    "name": "ipython",
    "version": 3
   },
   "file_extension": ".py",
   "mimetype": "text/x-python",
   "name": "python",
   "nbconvert_exporter": "python",
   "pygments_lexer": "ipython3",
   "version": "3.12.7"
  }
 },
 "nbformat": 4,
 "nbformat_minor": 5
}
