{
 "cells": [
  {
   "cell_type": "code",
   "execution_count": 91,
   "id": "d98f05d4-7f76-4529-bf5f-8a68a7f5af82",
   "metadata": {},
   "outputs": [],
   "source": [
    "import numpy as np"
   ]
  },
  {
   "cell_type": "code",
   "execution_count": null,
   "id": "0559b046-d0a5-47c3-9c0e-3482b7a51988",
   "metadata": {},
   "outputs": [],
   "source": [
    "arr1=np.array(s)\n",
    "arr1"
   ]
  },
  {
   "cell_type": "code",
   "execution_count": null,
   "id": "106ed723-c6c9-457d-8c52-e91bc4778dfa",
   "metadata": {},
   "outputs": [],
   "source": [
    "arr1.shape"
   ]
  },
  {
   "cell_type": "code",
   "execution_count": null,
   "id": "f7fde3fc-0590-40d5-8a48-08af9852013a",
   "metadata": {},
   "outputs": [],
   "source": [
    "arr1.size"
   ]
  },
  {
   "cell_type": "code",
   "execution_count": null,
   "id": "f24c62e2-4363-48c3-9f70-f9b137052f8f",
   "metadata": {},
   "outputs": [],
   "source": [
    "h=d.reshape(2,3)\n",
    "h"
   ]
  },
  {
   "cell_type": "code",
   "execution_count": null,
   "id": "43ce7d2b-a9f3-4398-a18d-7ec50113bf19",
   "metadata": {},
   "outputs": [],
   "source": [
    "h.size"
   ]
  },
  {
   "cell_type": "code",
   "execution_count": null,
   "id": "414917a7-52ca-4e3d-86eb-741c05d095a9",
   "metadata": {},
   "outputs": [],
   "source": [
    "h.ndim"
   ]
  },
  {
   "cell_type": "code",
   "execution_count": null,
   "id": "8de487ce-5572-47f4-8e05-8b42f09f974e",
   "metadata": {},
   "outputs": [],
   "source": [
    "range(5,20)"
   ]
  },
  {
   "cell_type": "code",
   "execution_count": 10,
   "id": "066472d8-4f13-4a90-8a29-4b4b1253e7e2",
   "metadata": {},
   "outputs": [
    {
     "data": {
      "text/plain": [
       "[3, 6, 9, 12]"
      ]
     },
     "execution_count": 10,
     "metadata": {},
     "output_type": "execute_result"
    }
   ],
   "source": [
    "list(range(3,13,3))\n"
   ]
  },
  {
   "cell_type": "code",
   "execution_count": 25,
   "id": "ff002aa1-7bac-439f-bf1d-1d7d88025429",
   "metadata": {},
   "outputs": [
    {
     "data": {
      "text/plain": [
       "[-10, -9, -8, -7, -6, -5, -4, -3, -2, -1, 0]"
      ]
     },
     "execution_count": 25,
     "metadata": {},
     "output_type": "execute_result"
    }
   ],
   "source": [
    "list(range(-10,1))"
   ]
  },
  {
   "cell_type": "code",
   "execution_count": 29,
   "id": "460995e5-ab2a-4233-9ec9-150b288cb0be",
   "metadata": {},
   "outputs": [
    {
     "data": {
      "text/plain": [
       "(5, 105, 205, 305, 405)"
      ]
     },
     "execution_count": 29,
     "metadata": {},
     "output_type": "execute_result"
    }
   ],
   "source": [
    "tuple(range(5,500,100))"
   ]
  },
  {
   "cell_type": "code",
   "execution_count": 31,
   "id": "7f9146d4-fdb0-4410-a597-26e95f2fd4ae",
   "metadata": {},
   "outputs": [
    {
     "data": {
      "text/plain": [
       "[-1, -2, -3, -4, -5, -6, -7, -8, -9]"
      ]
     },
     "execution_count": 31,
     "metadata": {},
     "output_type": "execute_result"
    }
   ],
   "source": [
    "list(range(-1,-10,-1))"
   ]
  },
  {
   "cell_type": "code",
   "execution_count": 33,
   "id": "80ff266a-2fd3-481c-bf11-078fd94e8c94",
   "metadata": {},
   "outputs": [
    {
     "ename": "TypeError",
     "evalue": "'float' object cannot be interpreted as an integer",
     "output_type": "error",
     "traceback": [
      "\u001b[1;31m---------------------------------------------------------------------------\u001b[0m",
      "\u001b[1;31mTypeError\u001b[0m                                 Traceback (most recent call last)",
      "Cell \u001b[1;32mIn[33], line 1\u001b[0m\n\u001b[1;32m----> 1\u001b[0m \u001b[38;5;28mrange\u001b[39m (\u001b[38;5;241m2.5\u001b[39m,\u001b[38;5;241m5\u001b[39m,\u001b[38;5;241m0.5\u001b[39m)\n",
      "\u001b[1;31mTypeError\u001b[0m: 'float' object cannot be interpreted as an integer"
     ]
    }
   ],
   "source": [
    "range (2.5,5,0.5)"
   ]
  },
  {
   "cell_type": "markdown",
   "id": "98194b1c-cc05-4817-bab0-84db81a52405",
   "metadata": {},
   "source": [
    "### range only work on integer values"
   ]
  },
  {
   "cell_type": "code",
   "execution_count": null,
   "id": "b608a5a4-a59e-4ba2-9828-b7c5706991b2",
   "metadata": {},
   "outputs": [],
   "source": [
    "np.arange(2.5,5,0.5)"
   ]
  },
  {
   "cell_type": "code",
   "execution_count": 45,
   "id": "4af02635-f48c-4849-812b-c51ed6e8ebff",
   "metadata": {},
   "outputs": [
    {
     "data": {
      "text/plain": [
       "range(5, 50, 5)"
      ]
     },
     "execution_count": 45,
     "metadata": {},
     "output_type": "execute_result"
    }
   ],
   "source": [
    "range(5,50,5)"
   ]
  },
  {
   "cell_type": "code",
   "execution_count": 49,
   "id": "98e8f3fd-de41-4b62-9b82-94aead8c5066",
   "metadata": {},
   "outputs": [
    {
     "name": "stdout",
     "output_type": "stream",
     "text": [
      "Data 5\n",
      "Data 10\n",
      "Data 15\n",
      "Data 20\n",
      "Data 25\n",
      "Data 30\n",
      "Data 35\n",
      "Data 40\n",
      "Data 45\n"
     ]
    }
   ],
   "source": [
    "for i in range (5,50,5):\n",
    "    print('Data',i)"
   ]
  },
  {
   "cell_type": "code",
   "execution_count": 61,
   "id": "6d0dd84b-0f76-4df2-8370-d236515f4162",
   "metadata": {},
   "outputs": [
    {
     "data": {
      "text/plain": [
       "[5, 87, 23, 46, 62, 84, 80, 45, 77, 33, 80]"
      ]
     },
     "execution_count": 61,
     "metadata": {},
     "output_type": "execute_result"
    }
   ],
   "source": [
    "i=[5,87,23,46,62,84,80,45,77,33,80]\n",
    "i"
   ]
  },
  {
   "cell_type": "code",
   "execution_count": 68,
   "id": "6af398b7-28d7-4c25-9e32-e7e0a109dda7",
   "metadata": {},
   "outputs": [],
   "source": [
    "y=[]\n",
    "x=[]\n",
    "for i in range(len(j)):\n",
    "    if i%2==0:\n",
    "        x.append(j[i])\n",
    "    else:\n",
    "        y.append(j[i])\n"
   ]
  },
  {
   "cell_type": "code",
   "execution_count": 74,
   "id": "162483ac-ce3b-4576-9bb5-58e736e5f4fa",
   "metadata": {},
   "outputs": [],
   "source": [
    "for i in j:\n",
    "    print()"
   ]
  },
  {
   "cell_type": "code",
   "execution_count": 95,
   "id": "e25c0de4-0add-4d9f-94fb-eb6f15825f36",
   "metadata": {},
   "outputs": [
    {
     "data": {
      "text/plain": [
       "array([10, 40, 50, 30, 70])"
      ]
     },
     "execution_count": 95,
     "metadata": {},
     "output_type": "execute_result"
    }
   ],
   "source": [
    "d=np.array([10, 40, 50, 30, 70])\n",
    "d"
   ]
  },
  {
   "cell_type": "code",
   "execution_count": 97,
   "id": "4a4d4e15-6fe0-467d-bcf2-02012a491bd8",
   "metadata": {},
   "outputs": [
    {
     "data": {
      "text/plain": [
       "40.0"
      ]
     },
     "execution_count": 97,
     "metadata": {},
     "output_type": "execute_result"
    }
   ],
   "source": [
    "np.mean(d)"
   ]
  },
  {
   "cell_type": "code",
   "execution_count": 99,
   "id": "b4d6cb79-ad6a-4897-8b2d-ace32d357f46",
   "metadata": {},
   "outputs": [
    {
     "data": {
      "text/plain": [
       "40.0"
      ]
     },
     "execution_count": 99,
     "metadata": {},
     "output_type": "execute_result"
    }
   ],
   "source": [
    "np.median(d)"
   ]
  },
  {
   "cell_type": "code",
   "execution_count": 101,
   "id": "3abd9393-73a1-4bb0-8081-810b2e02aa4e",
   "metadata": {},
   "outputs": [
    {
     "data": {
      "text/plain": [
       "400.0"
      ]
     },
     "execution_count": 101,
     "metadata": {},
     "output_type": "execute_result"
    }
   ],
   "source": [
    "np.var(d)"
   ]
  },
  {
   "cell_type": "code",
   "execution_count": 103,
   "id": "e4790e7d-37b0-4540-9493-4140dc786063",
   "metadata": {},
   "outputs": [
    {
     "data": {
      "text/plain": [
       "20.0"
      ]
     },
     "execution_count": 103,
     "metadata": {},
     "output_type": "execute_result"
    }
   ],
   "source": [
    "np.std(d)"
   ]
  },
  {
   "cell_type": "code",
   "execution_count": 105,
   "id": "a56f8d55-9a04-4f7d-b630-64b6988eac22",
   "metadata": {},
   "outputs": [
    {
     "data": {
      "text/plain": [
       "70"
      ]
     },
     "execution_count": 105,
     "metadata": {},
     "output_type": "execute_result"
    }
   ],
   "source": [
    "np.max(d)"
   ]
  },
  {
   "cell_type": "code",
   "execution_count": 107,
   "id": "4f400008-149b-435a-8e06-6c1b5412c817",
   "metadata": {},
   "outputs": [
    {
     "data": {
      "text/plain": [
       "10"
      ]
     },
     "execution_count": 107,
     "metadata": {},
     "output_type": "execute_result"
    }
   ],
   "source": [
    "np.min(d)"
   ]
  },
  {
   "cell_type": "code",
   "execution_count": 111,
   "id": "ea02af1a-cdcf-477b-a378-cea6997cd464",
   "metadata": {},
   "outputs": [
    {
     "data": {
      "text/plain": [
       "30.0"
      ]
     },
     "execution_count": 111,
     "metadata": {},
     "output_type": "execute_result"
    }
   ],
   "source": [
    "np.quantile(d,0.25)"
   ]
  },
  {
   "cell_type": "code",
   "execution_count": 125,
   "id": "bd8eea81-1c01-40e6-8efc-e5c0faef1416",
   "metadata": {},
   "outputs": [
    {
     "data": {
      "text/plain": [
       "50.0"
      ]
     },
     "execution_count": 125,
     "metadata": {},
     "output_type": "execute_result"
    }
   ],
   "source": [
    "np.quantile(d,0.75)"
   ]
  },
  {
   "cell_type": "code",
   "execution_count": 129,
   "id": "4e02b56f-6f0e-4eef-9812-b0194f7d8f1a",
   "metadata": {},
   "outputs": [
    {
     "data": {
      "text/plain": [
       "array([[0.662539  , 0.84992091, 0.29910768],\n",
       "       [0.82817454, 0.12718059, 0.48703095],\n",
       "       [0.92772159, 0.65126415, 0.35048576],\n",
       "       [0.82372731, 0.45482335, 0.94639862],\n",
       "       [0.5407156 , 0.32425463, 0.94226269]])"
      ]
     },
     "execution_count": 129,
     "metadata": {},
     "output_type": "execute_result"
    }
   ],
   "source": [
    "r=np.random.rand(5,3)\n",
    "r"
   ]
  },
  {
   "cell_type": "code",
   "execution_count": 131,
   "id": "e7c4415e-eb70-4a48-be31-1ae18a91706b",
   "metadata": {},
   "outputs": [
    {
     "data": {
      "text/plain": [
       "(5, 3)"
      ]
     },
     "execution_count": 131,
     "metadata": {},
     "output_type": "execute_result"
    }
   ],
   "source": [
    "r.shape"
   ]
  },
  {
   "cell_type": "code",
   "execution_count": 133,
   "id": "5e39857a-bfa4-49b2-a0f8-bfe3993d9d45",
   "metadata": {},
   "outputs": [
    {
     "data": {
      "text/plain": [
       "15"
      ]
     },
     "execution_count": 133,
     "metadata": {},
     "output_type": "execute_result"
    }
   ],
   "source": [
    "r.size"
   ]
  },
  {
   "cell_type": "code",
   "execution_count": 135,
   "id": "9fa7fdc7-4194-45f9-9791-ffde3457e74c",
   "metadata": {},
   "outputs": [
    {
     "data": {
      "text/plain": [
       "2"
      ]
     },
     "execution_count": 135,
     "metadata": {},
     "output_type": "execute_result"
    }
   ],
   "source": [
    "r.ndim"
   ]
  },
  {
   "cell_type": "code",
   "execution_count": 137,
   "id": "5d482294-0a87-42a6-b7ea-a9471aa5f25e",
   "metadata": {},
   "outputs": [
    {
     "data": {
      "text/plain": [
       "array([[0.24720993],\n",
       "       [0.80665753],\n",
       "       [0.79821001],\n",
       "       [0.05404671],\n",
       "       [0.84527895],\n",
       "       [0.24434275],\n",
       "       [0.1496812 ],\n",
       "       [0.06427973],\n",
       "       [0.9600848 ],\n",
       "       [0.09856161],\n",
       "       [0.22078798],\n",
       "       [0.2985068 ],\n",
       "       [0.79479687],\n",
       "       [0.79859636],\n",
       "       [0.42226769],\n",
       "       [0.50417442],\n",
       "       [0.99131956],\n",
       "       [0.73538249],\n",
       "       [0.3476717 ],\n",
       "       [0.27673907],\n",
       "       [0.9466091 ],\n",
       "       [0.45191809],\n",
       "       [0.42244653],\n",
       "       [0.87455812],\n",
       "       [0.33317371],\n",
       "       [0.11665128],\n",
       "       [0.24749323],\n",
       "       [0.03634466],\n",
       "       [0.108843  ],\n",
       "       [0.15510992]])"
      ]
     },
     "execution_count": 137,
     "metadata": {},
     "output_type": "execute_result"
    }
   ],
   "source": [
    "np.random.rand(30,1)"
   ]
  },
  {
   "cell_type": "code",
   "execution_count": 139,
   "id": "90e67c44-0efc-4f14-b972-acd85b11ef96",
   "metadata": {},
   "outputs": [
    {
     "data": {
      "text/plain": [
       "array([[10.59524336, 11.19187055, 12.32915881,  9.86963662, 10.60683617],\n",
       "       [ 7.43803711, 12.26161807, 10.05598007, 14.05795564, 10.86923291],\n",
       "       [ 7.38959726, 10.80969405,  8.92096006, 10.25646776, 11.4058612 ],\n",
       "       [ 7.96649243,  8.97478032, 12.92359367,  9.98008014, 11.87302041]])"
      ]
     },
     "execution_count": 139,
     "metadata": {},
     "output_type": "execute_result"
    }
   ],
   "source": [
    "np.random.normal(10,2,(4,5))"
   ]
  },
  {
   "cell_type": "code",
   "execution_count": 141,
   "id": "5cf101e7-8479-4c0f-acff-4cd1c9ab4bd0",
   "metadata": {},
   "outputs": [
    {
     "data": {
      "text/plain": [
       "48.36804938012483"
      ]
     },
     "execution_count": 141,
     "metadata": {},
     "output_type": "execute_result"
    }
   ],
   "source": [
    "np.random.normal(40,5)"
   ]
  },
  {
   "cell_type": "code",
   "execution_count": 143,
   "id": "fb2d9adc-caa4-4e31-854d-59f8fb0cd4cc",
   "metadata": {},
   "outputs": [
    {
     "data": {
      "text/plain": [
       "array([[ 8.27858809,  9.282735  ,  8.61874908, 11.46943217],\n",
       "       [ 9.54963061, 11.44468153,  7.91299745, 13.05261614],\n",
       "       [14.30669066, 10.86372598, 10.51870553, 11.17941743],\n",
       "       [13.72313534, 14.53820708, 11.00953351,  8.94930727],\n",
       "       [11.72132758,  7.6003708 , 10.01108078, 12.50322965],\n",
       "       [10.67540485,  7.98104847,  6.14739792,  9.03303427],\n",
       "       [ 9.12513653, 13.28119593, 12.58556896,  8.96797474]])"
      ]
     },
     "execution_count": 143,
     "metadata": {},
     "output_type": "execute_result"
    }
   ],
   "source": [
    "np.random.normal(10,2,(7,4))"
   ]
  },
  {
   "cell_type": "code",
   "execution_count": 147,
   "id": "28fd884a-73da-4e86-95f1-16cfabd464f1",
   "metadata": {},
   "outputs": [
    {
     "data": {
      "text/plain": [
       "array([78, 68, 44, 52, 38, 75, 52, 46, 53, 44, 79, 40, 78, 55, 44, 44, 41,\n",
       "       52, 84, 58])"
      ]
     },
     "execution_count": 147,
     "metadata": {},
     "output_type": "execute_result"
    }
   ],
   "source": [
    "np.random.randint(35,86,20)"
   ]
  },
  {
   "cell_type": "code",
   "execution_count": null,
   "id": "8dc8d1a8-ff32-4a27-98aa-3e6f7bdd60f3",
   "metadata": {},
   "outputs": [],
   "source": []
  }
 ],
 "metadata": {
  "kernelspec": {
   "display_name": "Python [conda env:base] *",
   "language": "python",
   "name": "conda-base-py"
  },
  "language_info": {
   "codemirror_mode": {
    "name": "ipython",
    "version": 3
   },
   "file_extension": ".py",
   "mimetype": "text/x-python",
   "name": "python",
   "nbconvert_exporter": "python",
   "pygments_lexer": "ipython3",
   "version": "3.12.7"
  }
 },
 "nbformat": 4,
 "nbformat_minor": 5
}
