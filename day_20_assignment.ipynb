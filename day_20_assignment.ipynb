{
 "cells": [
  {
   "cell_type": "markdown",
   "id": "579d4366-50ce-4692-a30c-129c2fc45217",
   "metadata": {},
   "source": [
    "Day 20_E-Commerce_Data"
   ]
  },
  {
   "cell_type": "code",
   "execution_count": 1,
   "id": "4cbd57c8-1cec-4276-97dd-8264d69e68fe",
   "metadata": {},
   "outputs": [
    {
     "data": {
      "text/html": [
       "<div>\n",
       "<style scoped>\n",
       "    .dataframe tbody tr th:only-of-type {\n",
       "        vertical-align: middle;\n",
       "    }\n",
       "\n",
       "    .dataframe tbody tr th {\n",
       "        vertical-align: top;\n",
       "    }\n",
       "\n",
       "    .dataframe thead th {\n",
       "        text-align: right;\n",
       "    }\n",
       "</style>\n",
       "<table border=\"1\" class=\"dataframe\">\n",
       "  <thead>\n",
       "    <tr style=\"text-align: right;\">\n",
       "      <th></th>\n",
       "      <th>Order_ID</th>\n",
       "      <th>Product_Category</th>\n",
       "      <th>Product_Price</th>\n",
       "      <th>Customer_Age</th>\n",
       "      <th>Rating</th>\n",
       "      <th>Review_Text</th>\n",
       "      <th>Order_Date</th>\n",
       "    </tr>\n",
       "  </thead>\n",
       "  <tbody>\n",
       "    <tr>\n",
       "      <th>0</th>\n",
       "      <td>1</td>\n",
       "      <td>Clothing</td>\n",
       "      <td>3262.0</td>\n",
       "      <td>58.0</td>\n",
       "      <td>3.0</td>\n",
       "      <td>Would not recommend</td>\n",
       "      <td>2023-01-01</td>\n",
       "    </tr>\n",
       "    <tr>\n",
       "      <th>1</th>\n",
       "      <td>2</td>\n",
       "      <td>Clothing</td>\n",
       "      <td>214.0</td>\n",
       "      <td>20.0</td>\n",
       "      <td>3.0</td>\n",
       "      <td>Excellent product!</td>\n",
       "      <td>2023-01-02</td>\n",
       "    </tr>\n",
       "    <tr>\n",
       "      <th>2</th>\n",
       "      <td>3</td>\n",
       "      <td>Home Decor</td>\n",
       "      <td>3429.0</td>\n",
       "      <td>51.0</td>\n",
       "      <td>2.0</td>\n",
       "      <td>Value for money</td>\n",
       "      <td>2023-01-03</td>\n",
       "    </tr>\n",
       "    <tr>\n",
       "      <th>3</th>\n",
       "      <td>4</td>\n",
       "      <td>Books</td>\n",
       "      <td>4568.0</td>\n",
       "      <td>35.0</td>\n",
       "      <td>3.0</td>\n",
       "      <td>Value for money</td>\n",
       "      <td>2023-01-04</td>\n",
       "    </tr>\n",
       "    <tr>\n",
       "      <th>4</th>\n",
       "      <td>5</td>\n",
       "      <td>Electronics</td>\n",
       "      <td>2237.0</td>\n",
       "      <td>32.0</td>\n",
       "      <td>4.0</td>\n",
       "      <td>Not as expected</td>\n",
       "      <td>2023-01-05</td>\n",
       "    </tr>\n",
       "  </tbody>\n",
       "</table>\n",
       "</div>"
      ],
      "text/plain": [
       "   Order_ID Product_Category  Product_Price  Customer_Age  Rating  \\\n",
       "0         1         Clothing         3262.0          58.0     3.0   \n",
       "1         2         Clothing          214.0          20.0     3.0   \n",
       "2         3       Home Decor         3429.0          51.0     2.0   \n",
       "3         4            Books         4568.0          35.0     3.0   \n",
       "4         5      Electronics         2237.0          32.0     4.0   \n",
       "\n",
       "           Review_Text  Order_Date  \n",
       "0  Would not recommend  2023-01-01  \n",
       "1   Excellent product!  2023-01-02  \n",
       "2      Value for money  2023-01-03  \n",
       "3      Value for money  2023-01-04  \n",
       "4      Not as expected  2023-01-05  "
      ]
     },
     "execution_count": 1,
     "metadata": {},
     "output_type": "execute_result"
    }
   ],
   "source": [
    "import pandas as pd\n",
    "\n",
    "# Load the dataset into a DataFrame\n",
    "df = pd.read_csv('Day 20_E-Commerce_Data.csv')\n",
    "\n",
    "# Display the first few rows to understand the structure\n",
    "df.head()\n"
   ]
  },
  {
   "cell_type": "code",
   "execution_count": 3,
   "id": "a8ce6786-6cd4-42ca-aa9d-76f5f932bfe0",
   "metadata": {},
   "outputs": [
    {
     "name": "stdout",
     "output_type": "stream",
     "text": [
      "Order_ID             0\n",
      "Product_Category    24\n",
      "Product_Price       20\n",
      "Customer_Age        15\n",
      "Rating              25\n",
      "Review_Text         21\n",
      "Order_Date          10\n",
      "dtype: int64\n"
     ]
    }
   ],
   "source": [
    "# Check for missing values\n",
    "missing_values = df.isna().sum()\n",
    "\n",
    "# Display missing values for each column\n",
    "print(missing_values)\n"
   ]
  },
  {
   "cell_type": "code",
   "execution_count": 5,
   "id": "787d4c31-2759-41c2-bbf9-64eaa3c0585f",
   "metadata": {},
   "outputs": [],
   "source": [
    "# Impute missing numerical values (e.g., Customer_Age) with median\n",
    "df['Customer_Age'] = df['Customer_Age'].fillna(df['Customer_Age'].median())\n"
   ]
  },
  {
   "cell_type": "code",
   "execution_count": 9,
   "id": "e06ac792-b51a-48e8-9dd1-830a23a7f82b",
   "metadata": {},
   "outputs": [
    {
     "name": "stdout",
     "output_type": "stream",
     "text": [
      "0\n"
     ]
    }
   ],
   "source": [
    "# Identify duplicate rows\n",
    "duplicates = df[df.duplicated()]\n",
    "\n",
    "# Remove duplicates\n",
    "df = df.drop_duplicates()\n",
    "\n",
    "# Verify no duplicates remain\n",
    "print(df.duplicated().sum())\n"
   ]
  },
  {
   "cell_type": "code",
   "execution_count": 13,
   "id": "a761f144-a693-45f3-9f23-ced9704c9638",
   "metadata": {},
   "outputs": [
    {
     "data": {
      "image/png": "[encoded data removed]",
      "text/plain": [
       "<Figure size 640x480 with 1 Axes>"
      ]
     },
     "metadata": {},
     "output_type": "display_data"
    },
    {
     "data": {
      "image/png": "[encoded data removed]",
      "text/plain": [
       "<Figure size 640x480 with 1 Axes>"
      ]
     },
     "metadata": {},
     "output_type": "display_data"
    }
   ],
   "source": [
    "import seaborn as sns\n",
    "import matplotlib.pyplot as plt\n",
    "\n",
    "# Boxplot for Product_Price to detect outliers\n",
    "sns.boxplot(x=df['Product_Price'])\n",
    "plt.show()\n",
    "\n",
    "# Boxplot for Rating to detect outliers\n",
    "sns.boxplot(x=df['Rating'])\n",
    "plt.show()\n"
   ]
  },
  {
   "cell_type": "code",
   "execution_count": 19,
   "id": "af335a2e-3d86-4951-9109-841695b4ed26",
   "metadata": {},
   "outputs": [],
   "source": [
    "# Save the cleaned dataset to a CSV file for further analysis\n",
    "df.to_csv('cleaned_ecommerce_customer_reviews.csv', index=False)\n"
   ]
  },
  {
   "cell_type": "code",
   "execution_count": null,
   "id": "4f5ec3b5-0c11-48e7-bf29-b49435aa6e9f",
   "metadata": {},
   "outputs": [],
   "source": []
  }
 ],
 "metadata": {
  "kernelspec": {
   "display_name": "Python [conda env:base] *",
   "language": "python",
   "name": "conda-base-py"
  },
  "language_info": {
   "codemirror_mode": {
    "name": "ipython",
    "version": 3
   },
   "file_extension": ".py",
   "mimetype": "text/x-python",
   "name": "python",
   "nbconvert_exporter": "python",
   "pygments_lexer": "ipython3",
   "version": "3.12.7"
  }
 },
 "nbformat": 4,
 "nbformat_minor": 5
}
