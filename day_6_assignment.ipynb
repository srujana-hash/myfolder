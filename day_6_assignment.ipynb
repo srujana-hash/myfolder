{
 "cells": [
  {
   "cell_type": "code",
   "execution_count": 6,
   "id": "29e823be-70de-4439-9d93-ac94ad5af87d",
   "metadata": {},
   "outputs": [
    {
     "name": "stdout",
     "output_type": "stream",
     "text": [
      "    Name  Age Department  Salary\n",
      "0   John   28         HR   45000\n",
      "1  Alice   34         IT   60000\n",
      "2    Bob   23  Marketing   35000\n",
      "3  Diana   29    Finance   50000\n"
     ]
    }
   ],
   "source": [
    "import pandas as pd\n",
    "\n",
    "data = {\n",
    "    'Name': ['John', 'Alice', 'Bob', 'Diana'],\n",
    "    'Age': [28, 34, 23, 29],\n",
    "    'Department': ['HR', 'IT', 'Marketing', 'Finance'],\n",
    "    'Salary': [45000, 60000, 35000, 50000]\n",
    "}\n",
    "\n",
    "df = pd.DataFrame(data)\n",
    "print(df)\n"
   ]
  },
  {
   "cell_type": "code",
   "execution_count": 7,
   "id": "93fe753f-b1b2-4a85-944a-3c107a9f7f00",
   "metadata": {},
   "outputs": [
    {
     "name": "stdout",
     "output_type": "stream",
     "text": [
      "First 2 rows of the DataFrame:\n",
      "    Name  Age Department  Salary\n",
      "0   John   28         HR   45000\n",
      "1  Alice   34         IT   60000\n"
     ]
    }
   ],
   "source": [
    "print(\"First 2 rows of the DataFrame:\")\n",
    "print(df.head(2))"
   ]
  },
  {
   "cell_type": "code",
   "execution_count": 8,
   "id": "86eb9047-61ed-40c2-8a3b-e1d0cfdcdd09",
   "metadata": {},
   "outputs": [
    {
     "name": "stdout",
     "output_type": "stream",
     "text": [
      "\n",
      "DataFrame with Bonus column:\n",
      "    Name  Age Department  Salary   Bonus\n",
      "0   John   28         HR   45000  4500.0\n",
      "1  Alice   34         IT   60000  6000.0\n",
      "2    Bob   23  Marketing   35000  3500.0\n",
      "3  Diana   29    Finance   50000  5000.0\n"
     ]
    }
   ],
   "source": [
    "df['Bonus'] = df['Salary'] * 0.10\n",
    "print(\"\\nDataFrame with Bonus column:\")\n",
    "print(df)\n"
   ]
  },
  {
   "cell_type": "code",
   "execution_count": 9,
   "id": "b838cb9c-505c-49df-bc76-376896489605",
   "metadata": {},
   "outputs": [
    {
     "name": "stdout",
     "output_type": "stream",
     "text": [
      "\n",
      "Average salary of employees: 47500.0\n"
     ]
    }
   ],
   "source": [
    "average_salary = df['Salary'].mean()\n",
    "print(\"\\nAverage salary of employees:\", average_salary)"
   ]
  },
  {
   "cell_type": "code",
   "execution_count": 10,
   "id": "c8475f69-0455-494a-92cd-cdbfd9d0f91a",
   "metadata": {},
   "outputs": [
    {
     "name": "stdout",
     "output_type": "stream",
     "text": [
      "\n",
      "Employees who are older than 25:\n",
      "    Name  Age Department  Salary   Bonus\n",
      "0   John   28         HR   45000  4500.0\n",
      "1  Alice   34         IT   60000  6000.0\n",
      "3  Diana   29    Finance   50000  5000.0\n"
     ]
    }
   ],
   "source": [
    "filtered_df = df[df['Age'] > 25]\n",
    "print(\"\\nEmployees who are older than 25:\")\n",
    "print(filtered_df)"
   ]
  },
  {
   "cell_type": "code",
   "execution_count": null,
   "id": "ae1c9bc7-0e32-4b6b-8290-ee41cba4c8d7",
   "metadata": {},
   "outputs": [],
   "source": []
  }
 ],
 "metadata": {
  "kernelspec": {
   "display_name": "Python 3 (ipykernel)",
   "language": "python",
   "name": "python3"
  },
  "language_info": {
   "codemirror_mode": {
    "name": "ipython",
    "version": 3
   },
   "file_extension": ".py",
   "mimetype": "text/x-python",
   "name": "python",
   "nbconvert_exporter": "python",
   "pygments_lexer": "ipython3",
   "version": "3.12.7"
  }
 },
 "nbformat": 4,
 "nbformat_minor": 5
}
