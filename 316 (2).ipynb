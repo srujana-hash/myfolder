{
 "cells": [
  {
   "cell_type": "markdown",
   "id": "9ddb1759-57e7-476c-931b-6259762018a1",
   "metadata": {},
   "source": [
    "int\n",
    "float\n",
    "string \n",
    "boolean\n",
    "complex\n"
   ]
  },
  {
   "cell_type": "code",
   "execution_count": null,
   "id": "02d2edf1-ef4f-4e2b-88ca-26f428fc1ae8",
   "metadata": {},
   "outputs": [],
   "source": [
    "a =5\n",
    "type(a)"
   ]
  },
  {
   "cell_type": "code",
   "execution_count": null,
   "id": "717f80c6-6a60-4d25-ad1b-617dab1432c9",
   "metadata": {},
   "outputs": [],
   "source": [
    "y = 326.143\n",
    "type(y)"
   ]
  },
  {
   "cell_type": "code",
   "execution_count": null,
   "id": "bc6b7215-0861-4728-ba57-5aeaf6388eb9",
   "metadata": {
    "scrolled": true
   },
   "outputs": [],
   "source": [
    "b = 'malla reddy'\n",
    "type(b)"
   ]
  },
  {
   "cell_type": "code",
   "execution_count": null,
   "id": "a6656d02-3312-4991-9f74-bdb0ed46a4ab",
   "metadata": {},
   "outputs": [],
   "source": [
    "x=True\n",
    "type(x)"
   ]
  },
  {
   "cell_type": "code",
   "execution_count": null,
   "id": "71f059e1-1bb3-41a6-8835-fd5bd9b88418",
   "metadata": {},
   "outputs": [],
   "source": [
    "t = 7+3j\n",
    "type(t)"
   ]
  },
  {
   "cell_type": "code",
   "execution_count": null,
   "id": "14766004-754c-4afc-b876-20d8acdb10ab",
   "metadata": {},
   "outputs": [],
   "source": [
    "a=67\n",
    "a"
   ]
  },
  {
   "cell_type": "code",
   "execution_count": null,
   "id": "c04618b0-a550-474f-9e24-b4c0e6db31a7",
   "metadata": {},
   "outputs": [],
   "source": [
    "type(a)"
   ]
  },
  {
   "cell_type": "code",
   "execution_count": null,
   "id": "4997110d-2dd8-41d2-8775-bccdd77a380a",
   "metadata": {},
   "outputs": [],
   "source": [
    "b=32.89\n",
    "b"
   ]
  },
  {
   "cell_type": "code",
   "execution_count": null,
   "id": "c77a2643-f97f-4f3c-be3a-363008d2222f",
   "metadata": {},
   "outputs": [],
   "source": [
    "type(b)"
   ]
  },
  {
   "cell_type": "code",
   "execution_count": null,
   "id": "1bcf6ee5-474a-48ba-a3e3-7655c8d79090",
   "metadata": {},
   "outputs": [],
   "source": [
    "c= 'srujana'\n",
    "c"
   ]
  },
  {
   "cell_type": "code",
   "execution_count": null,
   "id": "e483f4f9-c7db-46b8-9871-7afd6cce2a84",
   "metadata": {},
   "outputs": [],
   "source": [
    "type(c)"
   ]
  },
  {
   "cell_type": "code",
   "execution_count": null,
   "id": "5e6e2e4a-4473-4d21-a89f-f0e67014825d",
   "metadata": {},
   "outputs": [],
   "source": [
    "d = False\n",
    "d"
   ]
  },
  {
   "cell_type": "code",
   "execution_count": null,
   "id": "3a3b08cc-02ae-470d-841a-172bef338015",
   "metadata": {},
   "outputs": [],
   "source": [
    "type(d)"
   ]
  },
  {
   "cell_type": "code",
   "execution_count": null,
   "id": "71da811c-0b8f-4402-ba34-a8a8acff7f64",
   "metadata": {},
   "outputs": [],
   "source": [
    "s = 'kasimkota'\n",
    "s"
   ]
  },
  {
   "cell_type": "code",
   "execution_count": null,
   "id": "2bbcfad5-5f01-4a63-a258-3224cdc1fb02",
   "metadata": {},
   "outputs": [],
   "source": [
    "type(s)"
   ]
  },
  {
   "cell_type": "code",
   "execution_count": null,
   "id": "b1e94727-9cfa-4c62-9507-31338a8e4174",
   "metadata": {},
   "outputs": [],
   "source": [
    "s + c"
   ]
  },
  {
   "cell_type": "code",
   "execution_count": null,
   "id": "d6e71484-dfe1-4ea1-a2f4-2e22bc3549e7",
   "metadata": {},
   "outputs": [],
   "source": [
    "a"
   ]
  },
  {
   "cell_type": "code",
   "execution_count": null,
   "id": "ccb30e86-430a-45d8-8c59-5184166b74ff",
   "metadata": {},
   "outputs": [],
   "source": [
    "b"
   ]
  },
  {
   "cell_type": "code",
   "execution_count": null,
   "id": "f2f2afe6-bb4e-40fd-aa2f-87ca125c806d",
   "metadata": {},
   "outputs": [],
   "source": [
    "a+b"
   ]
  },
  {
   "cell_type": "code",
   "execution_count": null,
   "id": "de348a02-4000-46a2-953e-a786a56c2515",
   "metadata": {},
   "outputs": [],
   "source": [
    "e=3\n",
    "f=4\n",
    "g=5\n",
    "h=6\n",
    "i=7\n",
    "j=8\n",
    "k=9\n",
    "l=456\n",
    "m=87\n",
    "n=788\n"
   ]
  },
  {
   "cell_type": "code",
   "execution_count": null,
   "id": "7250315d-913b-47cb-8181-69fe25f603af",
   "metadata": {},
   "outputs": [],
   "source": [
    "e=3\n",
    "e"
   ]
  },
  {
   "cell_type": "code",
   "execution_count": null,
   "id": "9a7012e0-70ec-404a-b3ed-636e1fae88e7",
   "metadata": {},
   "outputs": [],
   "source": [
    "f=4\n",
    "f"
   ]
  },
  {
   "cell_type": "code",
   "execution_count": null,
   "id": "e37aee27-2a48-45f3-ab66-c58f109df0cb",
   "metadata": {},
   "outputs": [],
   "source": [
    "g=5\n",
    "g"
   ]
  },
  {
   "cell_type": "code",
   "execution_count": null,
   "id": "61c28581-47b8-4e6b-a7ce-f789db7667c2",
   "metadata": {},
   "outputs": [],
   "source": [
    "h=6\n",
    "h"
   ]
  },
  {
   "cell_type": "code",
   "execution_count": null,
   "id": "02be8f86-6002-434f-9e03-464b1dc4061a",
   "metadata": {},
   "outputs": [],
   "source": [
    "i=7\n",
    "i"
   ]
  },
  {
   "cell_type": "code",
   "execution_count": null,
   "id": "902a93f7-46dd-4072-a930-8919bb35c321",
   "metadata": {},
   "outputs": [],
   "source": [
    "j=8\n",
    "j"
   ]
  },
  {
   "cell_type": "code",
   "execution_count": null,
   "id": "cce3b8bc-60ee-48f6-8821-c7e0aa5165be",
   "metadata": {},
   "outputs": [],
   "source": [
    "k=9\n",
    "k"
   ]
  },
  {
   "cell_type": "code",
   "execution_count": null,
   "id": "33f6c5ab-4176-4216-ae46-d68091ba5ca8",
   "metadata": {},
   "outputs": [],
   "source": [
    "l=456\n",
    "l"
   ]
  },
  {
   "cell_type": "code",
   "execution_count": null,
   "id": "622f65a8-a098-476b-af8d-7f3aca841a57",
   "metadata": {},
   "outputs": [],
   "source": [
    "m=87\n",
    "m"
   ]
  },
  {
   "cell_type": "code",
   "execution_count": null,
   "id": "fd5fcf00-bcae-481e-aca7-8bb095d0a3cc",
   "metadata": {},
   "outputs": [],
   "source": [
    "n=788\n",
    "n"
   ]
  },
  {
   "cell_type": "code",
   "execution_count": null,
   "id": "60652059-0e30-4253-9f1a-533c6df7b5fc",
   "metadata": {},
   "outputs": [],
   "source": [
    "e+f"
   ]
  },
  {
   "cell_type": "code",
   "execution_count": null,
   "id": "1f02a68f-9cd2-4fae-8fa5-875c171df6ae",
   "metadata": {},
   "outputs": [],
   "source": [
    "g+h"
   ]
  },
  {
   "cell_type": "code",
   "execution_count": null,
   "id": "a186b8e4-626d-4354-9aaa-d12eb433571c",
   "metadata": {},
   "outputs": [],
   "source": [
    "i+j"
   ]
  },
  {
   "cell_type": "code",
   "execution_count": null,
   "id": "e82a5638-7876-4b93-8804-8a2364171f12",
   "metadata": {},
   "outputs": [],
   "source": [
    "k+l"
   ]
  },
  {
   "cell_type": "code",
   "execution_count": null,
   "id": "7e946c3d-6acf-4f5b-97a1-548cf74dc62e",
   "metadata": {},
   "outputs": [],
   "source": [
    "m+n"
   ]
  },
  {
   "cell_type": "code",
   "execution_count": null,
   "id": "a17b01bf-7ae3-4ca7-8aba-26badefb79ee",
   "metadata": {},
   "outputs": [],
   "source": [
    "o = 'sru'\n",
    "p = 'rk'\n",
    "q = 'divi'\n",
    "r = 'meena'\n",
    "s = 'prerana'\n",
    "t = 'teja'\n",
    "u = 'raj'\n",
    "v = 'yeshu'\n",
    "w = 'sanjana'\n",
    "z = 'sarayu'"
   ]
  },
  {
   "cell_type": "code",
   "execution_count": null,
   "id": "a4ec0b6d-4299-400c-a265-3fb800820eef",
   "metadata": {},
   "outputs": [],
   "source": [
    "o = 'sru'\n",
    "o"
   ]
  },
  {
   "cell_type": "code",
   "execution_count": null,
   "id": "f0997638-2c9d-4dfe-9fad-25e9cf74181f",
   "metadata": {},
   "outputs": [],
   "source": [
    "p = 'rk'\n",
    "p"
   ]
  },
  {
   "cell_type": "code",
   "execution_count": null,
   "id": "251f6eec-a770-4b76-a738-1014a8bd0288",
   "metadata": {},
   "outputs": [],
   "source": [
    "q = 'divi'\n",
    "q"
   ]
  },
  {
   "cell_type": "code",
   "execution_count": null,
   "id": "801c4b35-1601-4c1b-87e9-97e39d00a79d",
   "metadata": {},
   "outputs": [],
   "source": [
    "r = 'meena'\n",
    "r"
   ]
  },
  {
   "cell_type": "code",
   "execution_count": null,
   "id": "088c2971-b9de-47f0-a7bb-f02030df6795",
   "metadata": {},
   "outputs": [],
   "source": [
    "s = 'prerana'\n",
    "s"
   ]
  },
  {
   "cell_type": "code",
   "execution_count": null,
   "id": "9caf9fe6-c0f1-43c5-9427-a9a1196debb0",
   "metadata": {},
   "outputs": [],
   "source": [
    "t = 'teja'\n",
    "t"
   ]
  },
  {
   "cell_type": "code",
   "execution_count": null,
   "id": "e87128b8-9f56-434d-bccb-f96fd5d0fbf1",
   "metadata": {},
   "outputs": [],
   "source": [
    "u = 'raj'\n",
    "u"
   ]
  },
  {
   "cell_type": "code",
   "execution_count": null,
   "id": "024950fb-ce95-456c-9278-729b87d67267",
   "metadata": {},
   "outputs": [],
   "source": [
    "v = 'yeshu'\n",
    "v"
   ]
  },
  {
   "cell_type": "code",
   "execution_count": null,
   "id": "3f91d592-d1c0-44db-a1c2-3e66cd3d582a",
   "metadata": {},
   "outputs": [],
   "source": [
    "w = 'sanjana'\n",
    "w"
   ]
  },
  {
   "cell_type": "code",
   "execution_count": null,
   "id": "d025c0f1-e21b-4e4e-a72d-d7d4f2546d45",
   "metadata": {},
   "outputs": [],
   "source": [
    "z = 'sarayu'\n",
    "z"
   ]
  },
  {
   "cell_type": "code",
   "execution_count": null,
   "id": "a4acc1b1-5f13-4454-9dc4-276f0c8f88b3",
   "metadata": {},
   "outputs": [],
   "source": [
    "o+p+q+r+s+t"
   ]
  },
  {
   "cell_type": "code",
   "execution_count": null,
   "id": "80e58255-043d-4bb0-bc90-e1b8c3fb88e9",
   "metadata": {},
   "outputs": [],
   "source": [
    "u+v"
   ]
  },
  {
   "cell_type": "markdown",
   "id": "5992f660-1cb7-4885-99d0-7e3ded603dff",
   "metadata": {},
   "source": [
    "#   3-1-25"
   ]
  },
  {
   "cell_type": "markdown",
   "id": "6666a893-f287-450b-ae62-fdfb00b8b764",
   "metadata": {},
   "source": [
    "### addition  +\n",
    "### substraction  -\n",
    "### multiplication  *\n",
    "### division  /\n",
    "### remainder  %\n",
    "### power  **\n",
    "### //  floor division\n"
   ]
  },
  {
   "cell_type": "code",
   "execution_count": 132,
   "id": "d090d75c-23e6-4817-bc3a-1962b4681786",
   "metadata": {},
   "outputs": [
    {
     "data": {
      "text/plain": [
       "112"
      ]
     },
     "execution_count": 132,
     "metadata": {},
     "output_type": "execute_result"
    }
   ],
   "source": [
    "a=109\n",
    "b=3\n",
    "c= a+b\n",
    "c"
   ]
  },
  {
   "cell_type": "code",
   "execution_count": 124,
   "id": "f63b0184-e6a3-47ce-b002-505313563219",
   "metadata": {},
   "outputs": [
    {
     "data": {
      "text/plain": [
       "int"
      ]
     },
     "execution_count": 124,
     "metadata": {},
     "output_type": "execute_result"
    }
   ],
   "source": [
    "type(c)"
   ]
  },
  {
   "cell_type": "code",
   "execution_count": 134,
   "id": "d0d2fb56-d51b-4beb-b666-5b051925a781",
   "metadata": {},
   "outputs": [
    {
     "data": {
      "text/plain": [
       "327"
      ]
     },
     "execution_count": 134,
     "metadata": {},
     "output_type": "execute_result"
    }
   ],
   "source": [
    "d= a*b\n",
    "d"
   ]
  },
  {
   "cell_type": "code",
   "execution_count": 136,
   "id": "8af88ce1-fd2d-4b54-97d1-8ef19a4414aa",
   "metadata": {},
   "outputs": [
    {
     "data": {
      "text/plain": [
       "int"
      ]
     },
     "execution_count": 136,
     "metadata": {},
     "output_type": "execute_result"
    }
   ],
   "source": [
    "type(d)"
   ]
  },
  {
   "cell_type": "code",
   "execution_count": 140,
   "id": "cfe1564a-0011-46a4-b0e5-0ca2e250e763",
   "metadata": {},
   "outputs": [
    {
     "data": {
      "text/plain": [
       "36.333333333333336"
      ]
     },
     "execution_count": 140,
     "metadata": {},
     "output_type": "execute_result"
    }
   ],
   "source": [
    "z=a/b\n",
    "a/b"
   ]
  },
  {
   "cell_type": "code",
   "execution_count": 142,
   "id": "05c48539-0d71-40cd-bb1a-0f61c7e6fbd1",
   "metadata": {},
   "outputs": [
    {
     "data": {
      "text/plain": [
       "float"
      ]
     },
     "execution_count": 142,
     "metadata": {},
     "output_type": "execute_result"
    }
   ],
   "source": [
    "type(z)"
   ]
  },
  {
   "cell_type": "code",
   "execution_count": null,
   "id": "51ba12c8-ba1b-4ca5-a55f-a7c525ee4847",
   "metadata": {},
   "outputs": [],
   "source": []
  },
  {
   "cell_type": "markdown",
   "id": "22071f3f-6610-46b4-96a2-16cc79542de4",
   "metadata": {},
   "source": [
    "> < >= <= == !=\n"
   ]
  },
  {
   "cell_type": "code",
   "execution_count": null,
   "id": "ae282823-20a9-46ad-894f-5d7915fb2fc4",
   "metadata": {},
   "outputs": [],
   "source": [
    "a=45\n",
    "b=32"
   ]
  },
  {
   "cell_type": "code",
   "execution_count": 149,
   "id": "4e5f93a1-bbb1-4050-8e42-5ff2ea98c253",
   "metadata": {},
   "outputs": [
    {
     "data": {
      "text/plain": [
       "True"
      ]
     },
     "execution_count": 149,
     "metadata": {},
     "output_type": "execute_result"
    }
   ],
   "source": [
    "a>b"
   ]
  },
  {
   "cell_type": "code",
   "execution_count": 151,
   "id": "a0793580-f1b7-4412-9a83-d3705b85637c",
   "metadata": {},
   "outputs": [
    {
     "data": {
      "text/plain": [
       "False"
      ]
     },
     "execution_count": 151,
     "metadata": {},
     "output_type": "execute_result"
    }
   ],
   "source": [
    "a<b"
   ]
  },
  {
   "cell_type": "code",
   "execution_count": 153,
   "id": "78dcf408-0110-4843-9904-a7d3f79a8c39",
   "metadata": {},
   "outputs": [
    {
     "data": {
      "text/plain": [
       "True"
      ]
     },
     "execution_count": 153,
     "metadata": {},
     "output_type": "execute_result"
    }
   ],
   "source": [
    "a>=b"
   ]
  },
  {
   "cell_type": "code",
   "execution_count": 155,
   "id": "43431886-78e9-4634-be8f-565704ae1af7",
   "metadata": {},
   "outputs": [
    {
     "data": {
      "text/plain": [
       "False"
      ]
     },
     "execution_count": 155,
     "metadata": {},
     "output_type": "execute_result"
    }
   ],
   "source": [
    "a<=b"
   ]
  },
  {
   "cell_type": "code",
   "execution_count": 159,
   "id": "6e37177e-8bd4-43f4-8a0e-2f7b9af9aac9",
   "metadata": {},
   "outputs": [
    {
     "data": {
      "text/plain": [
       "False"
      ]
     },
     "execution_count": 159,
     "metadata": {},
     "output_type": "execute_result"
    }
   ],
   "source": [
    "a==b"
   ]
  },
  {
   "cell_type": "code",
   "execution_count": 157,
   "id": "ae68188d-e6fa-47f2-9e98-2f7232e3cd64",
   "metadata": {},
   "outputs": [
    {
     "data": {
      "text/plain": [
       "True"
      ]
     },
     "execution_count": 157,
     "metadata": {},
     "output_type": "execute_result"
    }
   ],
   "source": [
    "a!=b"
   ]
  },
  {
   "cell_type": "markdown",
   "id": "03928293-3751-4add-8d87-8fef83faf767",
   "metadata": {},
   "source": [
    "# 6-1-2025"
   ]
  },
  {
   "cell_type": "code",
   "execution_count": 2,
   "id": "e755842b-edeb-4a54-9c41-3c8200240a78",
   "metadata": {},
   "outputs": [
    {
     "data": {
      "text/plain": [
       "[23, 34, 45, 56, 67]"
      ]
     },
     "execution_count": 2,
     "metadata": {},
     "output_type": "execute_result"
    }
   ],
   "source": [
    "a= [23,34,45,56,67 ]\n",
    "a"
   ]
  },
  {
   "cell_type": "code",
   "execution_count": 6,
   "id": "c50ce0a6-a2c2-436e-a60d-73e10e4f6eaa",
   "metadata": {},
   "outputs": [
    {
     "data": {
      "text/plain": [
       "list"
      ]
     },
     "execution_count": 6,
     "metadata": {},
     "output_type": "execute_result"
    }
   ],
   "source": [
    "type(a)"
   ]
  },
  {
   "cell_type": "code",
   "execution_count": 10,
   "id": "8472e458-2794-4f9b-ad45-79d008cf7449",
   "metadata": {},
   "outputs": [
    {
     "data": {
      "text/plain": [
       "[203, 'Hyderabad', 45, True, False, 78, 175, 34.9]"
      ]
     },
     "execution_count": 10,
     "metadata": {},
     "output_type": "execute_result"
    }
   ],
   "source": [
    "c = [203,'Hyderabad',45,True,False,78,175,34.9]\n",
    "c"
   ]
  },
  {
   "cell_type": "code",
   "execution_count": 12,
   "id": "27254dbb-07ad-47c7-84c4-32a5caa59def",
   "metadata": {},
   "outputs": [
    {
     "data": {
      "text/plain": [
       "203"
      ]
     },
     "execution_count": 12,
     "metadata": {},
     "output_type": "execute_result"
    }
   ],
   "source": [
    "c[0]"
   ]
  },
  {
   "cell_type": "code",
   "execution_count": 16,
   "id": "8bed4514-9387-4d6b-9777-2365813671d3",
   "metadata": {},
   "outputs": [
    {
     "data": {
      "text/plain": [
       "'Hyderabad'"
      ]
     },
     "execution_count": 16,
     "metadata": {},
     "output_type": "execute_result"
    }
   ],
   "source": [
    "c[1]"
   ]
  },
  {
   "cell_type": "code",
   "execution_count": 18,
   "id": "fddf8a65-ef6e-44d0-9ceb-ee24fcb8bb1b",
   "metadata": {},
   "outputs": [
    {
     "data": {
      "text/plain": [
       "45"
      ]
     },
     "execution_count": 18,
     "metadata": {},
     "output_type": "execute_result"
    }
   ],
   "source": [
    "c[2]"
   ]
  },
  {
   "cell_type": "code",
   "execution_count": 20,
   "id": "27fc0b6a-8d0b-411f-971b-aa88f919e6fe",
   "metadata": {},
   "outputs": [
    {
     "data": {
      "text/plain": [
       "True"
      ]
     },
     "execution_count": 20,
     "metadata": {},
     "output_type": "execute_result"
    }
   ],
   "source": [
    "c[3]"
   ]
  },
  {
   "cell_type": "code",
   "execution_count": 22,
   "id": "e1c1f0fa-b883-4244-af28-7b3000815f81",
   "metadata": {},
   "outputs": [
    {
     "data": {
      "text/plain": [
       "False"
      ]
     },
     "execution_count": 22,
     "metadata": {},
     "output_type": "execute_result"
    }
   ],
   "source": [
    "c[4]"
   ]
  },
  {
   "cell_type": "code",
   "execution_count": 24,
   "id": "667da007-8820-4939-a35f-a013c5e04064",
   "metadata": {},
   "outputs": [
    {
     "data": {
      "text/plain": [
       "78"
      ]
     },
     "execution_count": 24,
     "metadata": {},
     "output_type": "execute_result"
    }
   ],
   "source": [
    "c[5]"
   ]
  },
  {
   "cell_type": "code",
   "execution_count": 26,
   "id": "689da4a6-38e1-4161-80f7-cbdd3ce0cd2e",
   "metadata": {},
   "outputs": [
    {
     "data": {
      "text/plain": [
       "175"
      ]
     },
     "execution_count": 26,
     "metadata": {},
     "output_type": "execute_result"
    }
   ],
   "source": [
    "c[6]"
   ]
  },
  {
   "cell_type": "code",
   "execution_count": 28,
   "id": "9f5069a5-c854-4473-b8bf-7b682fbddb80",
   "metadata": {},
   "outputs": [
    {
     "data": {
      "text/plain": [
       "34.9"
      ]
     },
     "execution_count": 28,
     "metadata": {},
     "output_type": "execute_result"
    }
   ],
   "source": [
    "c[7]"
   ]
  },
  {
   "cell_type": "code",
   "execution_count": 32,
   "id": "0aa2ced6-359d-4812-8d17-f6ad6b43ae45",
   "metadata": {},
   "outputs": [
    {
     "data": {
      "text/plain": [
       "[203, 45, False, 175]"
      ]
     },
     "execution_count": 32,
     "metadata": {},
     "output_type": "execute_result"
    }
   ],
   "source": [
    "c[0:8:2]"
   ]
  },
  {
   "cell_type": "markdown",
   "id": "74071dfd-c216-4833-b8fd-8a70e2835893",
   "metadata": {},
   "source": [
    "start : end : step"
   ]
  },
  {
   "cell_type": "code",
   "execution_count": 34,
   "id": "ee330a97-04b9-409d-b8ca-9345466557d7",
   "metadata": {},
   "outputs": [
    {
     "data": {
      "text/plain": [
       "[203, False]"
      ]
     },
     "execution_count": 34,
     "metadata": {},
     "output_type": "execute_result"
    }
   ],
   "source": [
    "c[0:8:4]"
   ]
  },
  {
   "cell_type": "code",
   "execution_count": 36,
   "id": "b5d480f4-067b-48fc-9029-fdfbbd4e3b5b",
   "metadata": {},
   "outputs": [
    {
     "data": {
      "text/plain": [
       "45"
      ]
     },
     "execution_count": 36,
     "metadata": {},
     "output_type": "execute_result"
    }
   ],
   "source": [
    "c[-6]"
   ]
  },
  {
   "cell_type": "code",
   "execution_count": 38,
   "id": "ad241ff3-9da8-4941-89e4-65fcbc284a4d",
   "metadata": {},
   "outputs": [
    {
     "data": {
      "text/plain": [
       "175"
      ]
     },
     "execution_count": 38,
     "metadata": {},
     "output_type": "execute_result"
    }
   ],
   "source": [
    "c[-2]"
   ]
  },
  {
   "cell_type": "code",
   "execution_count": 42,
   "id": "f143baf1-2e6d-4d4f-96c8-83abd7479f26",
   "metadata": {},
   "outputs": [
    {
     "data": {
      "text/plain": [
       "[False, True, 45, 'Hyderabad']"
      ]
     },
     "execution_count": 42,
     "metadata": {},
     "output_type": "execute_result"
    }
   ],
   "source": [
    "c[-4:-8:-1]"
   ]
  },
  {
   "cell_type": "code",
   "execution_count": 44,
   "id": "bf1c8ad8-41a1-440d-a1b1-dd3ffd207a69",
   "metadata": {},
   "outputs": [
    {
     "data": {
      "text/plain": [
       "['Hyderabad', 45, True, False]"
      ]
     },
     "execution_count": 44,
     "metadata": {},
     "output_type": "execute_result"
    }
   ],
   "source": [
    "c[1:5]"
   ]
  },
  {
   "cell_type": "code",
   "execution_count": 47,
   "id": "e06cdfeb-6809-48e0-9875-756e28feb7a1",
   "metadata": {},
   "outputs": [
    {
     "data": {
      "text/plain": [
       "[175, 78, False, True, 45]"
      ]
     },
     "execution_count": 47,
     "metadata": {},
     "output_type": "execute_result"
    }
   ],
   "source": [
    "c[-2:-7:-1]"
   ]
  },
  {
   "cell_type": "code",
   "execution_count": 49,
   "id": "763698a5-b3ee-4195-89fe-45cd82a962f4",
   "metadata": {},
   "outputs": [
    {
     "data": {
      "text/plain": [
       "[175, 78, False, True]"
      ]
     },
     "execution_count": 49,
     "metadata": {},
     "output_type": "execute_result"
    }
   ],
   "source": [
    "c[6:2:-1]"
   ]
  },
  {
   "cell_type": "markdown",
   "id": "196cb291-9a6b-4fae-92e9-d6a1b9c15b29",
   "metadata": {},
   "source": [
    "# list  methods"
   ]
  },
  {
   "cell_type": "markdown",
   "id": "c2bb71de-5301-40b8-9500-c10c67f6c3ff",
   "metadata": {},
   "source": [
    "#### append \n",
    "#### insert\n",
    "#### extend\n",
    "#### pop\n",
    "#### remove\n",
    "#### clear\n",
    "#### count"
   ]
  },
  {
   "cell_type": "code",
   "execution_count": 55,
   "id": "8894175b-f79c-40c6-a6d8-8ddda6e0d05a",
   "metadata": {},
   "outputs": [
    {
     "data": {
      "text/plain": [
       "[203, 'Hyderabad', 45, True, False, 78, 175, 34.9, 80, 80]"
      ]
     },
     "execution_count": 55,
     "metadata": {},
     "output_type": "execute_result"
    }
   ],
   "source": [
    "c.append(80)\n",
    "c"
   ]
  },
  {
   "cell_type": "code",
   "execution_count": 65,
   "id": "1d30cef0-3007-452f-b85a-4c96796dcc70",
   "metadata": {},
   "outputs": [
    {
     "data": {
      "text/plain": [
       "[203, 90, 90, 90, 90, 'Hyderabad', 45, True, False, 78, 175, 34.9, 80, 80]"
      ]
     },
     "execution_count": 65,
     "metadata": {},
     "output_type": "execute_result"
    }
   ],
   "source": [
    "c.insert(1,90)\n",
    "c"
   ]
  },
  {
   "cell_type": "code",
   "execution_count": 77,
   "id": "15115ca5-d98c-4491-b265-c1912290742c",
   "metadata": {},
   "outputs": [
    {
     "data": {
      "text/plain": [
       "True"
      ]
     },
     "execution_count": 77,
     "metadata": {},
     "output_type": "execute_result"
    }
   ],
   "source": [
    "c.pop(6)"
   ]
  },
  {
   "cell_type": "code",
   "execution_count": 79,
   "id": "94968417-1682-4c68-bd85-21479e04e06b",
   "metadata": {},
   "outputs": [
    {
     "data": {
      "text/plain": [
       "[203, 90, 90, 90, 90, 'Hyderabad', False, 78, 175, 34.9, 80, 80]"
      ]
     },
     "execution_count": 79,
     "metadata": {},
     "output_type": "execute_result"
    }
   ],
   "source": [
    "c"
   ]
  },
  {
   "cell_type": "code",
   "execution_count": 89,
   "id": "4b5fb13e-ec14-4c3b-bd6f-90df906d4034",
   "metadata": {},
   "outputs": [],
   "source": [
    "c.remove(78)"
   ]
  },
  {
   "cell_type": "code",
   "execution_count": 91,
   "id": "92fc2930-2e8d-49e9-bc4e-451fb62b0eff",
   "metadata": {},
   "outputs": [
    {
     "data": {
      "text/plain": [
       "[203, 90, 90, 90, 90, 'Hyderabad', False, 175, 34.9, 80, 80]"
      ]
     },
     "execution_count": 91,
     "metadata": {},
     "output_type": "execute_result"
    }
   ],
   "source": [
    "c"
   ]
  },
  {
   "cell_type": "code",
   "execution_count": 103,
   "id": "ef264c7c-4e7e-4b06-98c6-3b2f438d1932",
   "metadata": {},
   "outputs": [
    {
     "data": {
      "text/plain": [
       "1"
      ]
     },
     "execution_count": 103,
     "metadata": {},
     "output_type": "execute_result"
    }
   ],
   "source": [
    "c.count(203)"
   ]
  },
  {
   "cell_type": "code",
   "execution_count": 96,
   "id": "bd5a8914-6357-45b2-9bdb-a0e016b4acc5",
   "metadata": {},
   "outputs": [],
   "source": [
    "c.extend([45,78,90,34])"
   ]
  },
  {
   "cell_type": "code",
   "execution_count": 98,
   "id": "92886d48-87f3-4d35-a812-35a6bcf8efbe",
   "metadata": {},
   "outputs": [
    {
     "data": {
      "text/plain": [
       "[203, 90, 90, 90, 90, 'Hyderabad', False, 175, 34.9, 80, 80, 45, 78, 90, 34]"
      ]
     },
     "execution_count": 98,
     "metadata": {},
     "output_type": "execute_result"
    }
   ],
   "source": [
    "c"
   ]
  },
  {
   "cell_type": "markdown",
   "id": "552c52f3-7d8c-45d4-b376-532c9b65d609",
   "metadata": {},
   "source": [
    "# 07/01/25"
   ]
  },
  {
   "cell_type": "code",
   "execution_count": 4,
   "id": "620bf4ba-5cb6-4bf8-b8e6-89e742c90428",
   "metadata": {},
   "outputs": [
    {
     "data": {
      "text/plain": [
       "(90, 70, 50, 30, 20)"
      ]
     },
     "execution_count": 4,
     "metadata": {},
     "output_type": "execute_result"
    }
   ],
   "source": [
    "h = (90, 70, 50, 30, 20)\n",
    "h"
   ]
  },
  {
   "cell_type": "code",
   "execution_count": 6,
   "id": "9ef7f211-793f-4199-8924-3bf44a227295",
   "metadata": {},
   "outputs": [
    {
     "data": {
      "text/plain": [
       "1"
      ]
     },
     "execution_count": 6,
     "metadata": {},
     "output_type": "execute_result"
    }
   ],
   "source": [
    "h.count(90)"
   ]
  },
  {
   "cell_type": "code",
   "execution_count": 10,
   "id": "7311d595-9651-4894-9392-1f6e9c7cde24",
   "metadata": {},
   "outputs": [
    {
     "data": {
      "text/plain": [
       "3"
      ]
     },
     "execution_count": 10,
     "metadata": {},
     "output_type": "execute_result"
    }
   ],
   "source": [
    "h.index(30)"
   ]
  },
  {
   "cell_type": "code",
   "execution_count": 18,
   "id": "6f3e7d28-d05a-489e-978b-a3cac27d53af",
   "metadata": {},
   "outputs": [
    {
     "data": {
      "text/plain": [
       "{34, 45, 56, 67, 78, 89, 90}"
      ]
     },
     "execution_count": 18,
     "metadata": {},
     "output_type": "execute_result"
    }
   ],
   "source": [
    "s={ 45,34,45,56,67,78,89,90,90,90,90}\n",
    "s"
   ]
  },
  {
   "cell_type": "code",
   "execution_count": 16,
   "id": "2befe84f-659d-42c5-a395-6293e60eba34",
   "metadata": {},
   "outputs": [
    {
     "data": {
      "text/plain": [
       "set"
      ]
     },
     "execution_count": 16,
     "metadata": {},
     "output_type": "execute_result"
    }
   ],
   "source": [
    "type(s)"
   ]
  },
  {
   "cell_type": "code",
   "execution_count": 22,
   "id": "c40e9639-5fab-403c-8345-1b95ec5b77f7",
   "metadata": {},
   "outputs": [
    {
     "data": {
      "text/plain": [
       "{34, 45, 56, 67, 77, 78, 89, 90}"
      ]
     },
     "execution_count": 22,
     "metadata": {},
     "output_type": "execute_result"
    }
   ],
   "source": [
    "s.add(77)\n",
    "s"
   ]
  },
  {
   "cell_type": "code",
   "execution_count": 24,
   "id": "385dc760-32ef-4d98-b82a-b90c1dd8a1e7",
   "metadata": {},
   "outputs": [
    {
     "data": {
      "text/plain": [
       "{34, 56, 67, 77, 78, 89, 90}"
      ]
     },
     "execution_count": 24,
     "metadata": {},
     "output_type": "execute_result"
    }
   ],
   "source": [
    "s.remove(45)\n",
    "s"
   ]
  },
  {
   "cell_type": "code",
   "execution_count": 26,
   "id": "b86a75e2-bf55-4c40-95dd-4942b9c9d441",
   "metadata": {},
   "outputs": [
    {
     "data": {
      "text/plain": [
       "{10, 12, 30, 50, 60, 67, 80, 90}"
      ]
     },
     "execution_count": 26,
     "metadata": {},
     "output_type": "execute_result"
    }
   ],
   "source": [
    "y={12,10,30,90,67,50,60,80}\n",
    "y"
   ]
  },
  {
   "cell_type": "code",
   "execution_count": 28,
   "id": "4f242757-aaa3-48b8-91da-40f34421c0ff",
   "metadata": {},
   "outputs": [
    {
     "data": {
      "text/plain": [
       "{10, 12, 30, 34, 50, 56, 60, 67, 77, 78, 80, 89, 90}"
      ]
     },
     "execution_count": 28,
     "metadata": {},
     "output_type": "execute_result"
    }
   ],
   "source": [
    "s.union(y)"
   ]
  },
  {
   "cell_type": "code",
   "execution_count": 30,
   "id": "83cb64e2-efa3-4aeb-932a-2c20bb7bcbb8",
   "metadata": {},
   "outputs": [
    {
     "data": {
      "text/plain": [
       "{67, 90}"
      ]
     },
     "execution_count": 30,
     "metadata": {},
     "output_type": "execute_result"
    }
   ],
   "source": [
    "s.intersection(y)"
   ]
  },
  {
   "cell_type": "code",
   "execution_count": 32,
   "id": "8ca0a15d-2c55-42a9-b7f9-925097ad7dca",
   "metadata": {},
   "outputs": [
    {
     "data": {
      "text/plain": [
       "{34, 56, 77, 78, 89}"
      ]
     },
     "execution_count": 32,
     "metadata": {},
     "output_type": "execute_result"
    }
   ],
   "source": [
    "s.difference(y)"
   ]
  },
  {
   "cell_type": "code",
   "execution_count": 34,
   "id": "fb33ec1d-02e6-4c25-9c12-b256cfb85ad9",
   "metadata": {},
   "outputs": [
    {
     "data": {
      "text/plain": [
       "{10, 12, 30, 50, 60, 80}"
      ]
     },
     "execution_count": 34,
     "metadata": {},
     "output_type": "execute_result"
    }
   ],
   "source": [
    "y.difference(s)"
   ]
  },
  {
   "cell_type": "markdown",
   "id": "935cc2fa-e457-4477-9ed9-8459c20e497f",
   "metadata": {},
   "source": [
    "## 8/01/2025"
   ]
  },
  {
   "cell_type": "code",
   "execution_count": 12,
   "id": "3486ecc0-2b7b-4065-8047-00307d24cb34",
   "metadata": {},
   "outputs": [
    {
     "data": {
      "text/plain": [
       "{101: 4, 102: 7, 105: 2}"
      ]
     },
     "execution_count": 12,
     "metadata": {},
     "output_type": "execute_result"
    }
   ],
   "source": [
    "d={101:4, 102: 7, 105:2}\n",
    "d"
   ]
  },
  {
   "cell_type": "code",
   "execution_count": 16,
   "id": "b6505dec-f72b-4aa3-b0cd-90e7e0132e74",
   "metadata": {},
   "outputs": [
    {
     "data": {
      "text/plain": [
       "4"
      ]
     },
     "execution_count": 16,
     "metadata": {},
     "output_type": "execute_result"
    }
   ],
   "source": [
    "d[101]"
   ]
  },
  {
   "cell_type": "code",
   "execution_count": 40,
   "id": "28f69c6b-2f03-4786-bd06-d3a5c62191a3",
   "metadata": {},
   "outputs": [
    {
     "data": {
      "text/plain": [
       "{101: 200, 102: 7, 105: 300}"
      ]
     },
     "execution_count": 40,
     "metadata": {},
     "output_type": "execute_result"
    }
   ],
   "source": [
    "d[101] = 200\n",
    "d"
   ]
  },
  {
   "cell_type": "code",
   "execution_count": 42,
   "id": "8fa6c347-3dad-489d-b207-a2216c030fcf",
   "metadata": {},
   "outputs": [
    {
     "data": {
      "text/plain": [
       "dict_keys([101, 102, 105])"
      ]
     },
     "execution_count": 42,
     "metadata": {},
     "output_type": "execute_result"
    }
   ],
   "source": [
    "d.keys()"
   ]
  },
  {
   "cell_type": "code",
   "execution_count": 44,
   "id": "54e9afcc-65ff-44cc-93a3-d8224c4d32f5",
   "metadata": {},
   "outputs": [
    {
     "data": {
      "text/plain": [
       "dict_values([200, 7, 300])"
      ]
     },
     "execution_count": 44,
     "metadata": {},
     "output_type": "execute_result"
    }
   ],
   "source": [
    "d.values()"
   ]
  },
  {
   "cell_type": "code",
   "execution_count": 46,
   "id": "ee46bed2-84cc-4fb7-ab72-5c9ecae3ff30",
   "metadata": {},
   "outputs": [
    {
     "data": {
      "text/plain": [
       "dict_items([(101, 200), (102, 7), (105, 300)])"
      ]
     },
     "execution_count": 46,
     "metadata": {},
     "output_type": "execute_result"
    }
   ],
   "source": [
    "d.items()"
   ]
  },
  {
   "cell_type": "code",
   "execution_count": 48,
   "id": "187c07aa-f8ef-4015-beaa-22769547c226",
   "metadata": {},
   "outputs": [
    {
     "data": {
      "text/plain": [
       "{101: 200, 102: 7, 105: 300}"
      ]
     },
     "execution_count": 48,
     "metadata": {},
     "output_type": "execute_result"
    }
   ],
   "source": [
    "d.update({105:300})\n",
    "d"
   ]
  },
  {
   "cell_type": "code",
   "execution_count": 52,
   "id": "3af050d8-7184-46ae-8334-47cd0705753f",
   "metadata": {},
   "outputs": [
    {
     "data": {
      "text/plain": [
       "{101: 200, 102: 7, 105: 300, 103: 'India'}"
      ]
     },
     "execution_count": 52,
     "metadata": {},
     "output_type": "execute_result"
    }
   ],
   "source": [
    "d.update({103:'India'})\n",
    "d"
   ]
  },
  {
   "cell_type": "code",
   "execution_count": 54,
   "id": "f07e344b-f643-4b84-8193-644a0940497f",
   "metadata": {},
   "outputs": [
    {
     "data": {
      "text/plain": [
       "{101: 200, 102: 7, 105: 300, 103: 'India', 106: 4000}"
      ]
     },
     "execution_count": 54,
     "metadata": {},
     "output_type": "execute_result"
    }
   ],
   "source": [
    "d[106] = 4000\n",
    "d"
   ]
  },
  {
   "cell_type": "code",
   "execution_count": 60,
   "id": "c316032f-4637-4836-aa4a-f27f1dba776b",
   "metadata": {},
   "outputs": [
    {
     "data": {
      "text/plain": [
       "{101: 200, 103: 'India', 106: 4000}"
      ]
     },
     "execution_count": 60,
     "metadata": {},
     "output_type": "execute_result"
    }
   ],
   "source": [
    "del d[102]\n",
    "d"
   ]
  },
  {
   "cell_type": "code",
   "execution_count": 62,
   "id": "95ecc05f-5355-4855-8858-96daa736e9a1",
   "metadata": {},
   "outputs": [
    {
     "data": {
      "text/plain": [
       "{101: 200, 103: 'India', 106: 4000, 102: 600}"
      ]
     },
     "execution_count": 62,
     "metadata": {},
     "output_type": "execute_result"
    }
   ],
   "source": [
    "d.update({102 : 600})\n",
    "d"
   ]
  },
  {
   "cell_type": "code",
   "execution_count": 68,
   "id": "5b62b0f8-c8ba-4ed8-b06d-35c39ad9bf7f",
   "metadata": {},
   "outputs": [
    {
     "data": {
      "text/plain": [
       "{101: 200, 103: 'India', 106: 4000, 102: 600, 107: 'India'}"
      ]
     },
     "execution_count": 68,
     "metadata": {},
     "output_type": "execute_result"
    }
   ],
   "source": [
    "d.update({107:'India'})\n",
    "d"
   ]
  },
  {
   "cell_type": "markdown",
   "id": "c2e5d56d-7e63-420e-9cda-510cd00e88b7",
   "metadata": {},
   "source": [
    "##### key dublication is wrong , but values dublication is allowed"
   ]
  },
  {
   "cell_type": "code",
   "execution_count": 74,
   "id": "bf896c3d-78d5-4b18-9625-76618fff9746",
   "metadata": {},
   "outputs": [
    {
     "data": {
      "text/plain": [
       "{101: 200,\n",
       " 103: 'India',\n",
       " 106: 4000,\n",
       " 102: 600,\n",
       " 107: 'India',\n",
       " 104: [1000, 2000, 3000, 4000]}"
      ]
     },
     "execution_count": 74,
     "metadata": {},
     "output_type": "execute_result"
    }
   ],
   "source": [
    "d.update({104:[1000,2000,3000,4000]})\n",
    "d"
   ]
  },
  {
   "cell_type": "code",
   "execution_count": 76,
   "id": "8eb0239a-7694-4bab-8e05-1ad6845828df",
   "metadata": {},
   "outputs": [
    {
     "data": {
      "text/plain": [
       "dict"
      ]
     },
     "execution_count": 76,
     "metadata": {},
     "output_type": "execute_result"
    }
   ],
   "source": [
    "type(d)"
   ]
  },
  {
   "cell_type": "code",
   "execution_count": 80,
   "id": "d24b473b-cbcd-4ef2-acb5-88295c3504d0",
   "metadata": {},
   "outputs": [
    {
     "data": {
      "text/plain": [
       "int"
      ]
     },
     "execution_count": 80,
     "metadata": {},
     "output_type": "execute_result"
    }
   ],
   "source": [
    "type(d[102])"
   ]
  },
  {
   "cell_type": "code",
   "execution_count": 82,
   "id": "2e94b494-66a0-4d67-a1ac-dbd1588a05c9",
   "metadata": {},
   "outputs": [
    {
     "data": {
      "text/plain": [
       "str"
      ]
     },
     "execution_count": 82,
     "metadata": {},
     "output_type": "execute_result"
    }
   ],
   "source": [
    "type(d[107])"
   ]
  },
  {
   "cell_type": "code",
   "execution_count": 84,
   "id": "a57b3c58-7850-4d15-8b1c-28b3066f8903",
   "metadata": {},
   "outputs": [
    {
     "data": {
      "text/plain": [
       "'india'"
      ]
     },
     "execution_count": 84,
     "metadata": {},
     "output_type": "execute_result"
    }
   ],
   "source": [
    "a='india'\n",
    "a"
   ]
  },
  {
   "cell_type": "code",
   "execution_count": 86,
   "id": "a7080e89-9c5f-4ba2-800d-5d2850ddc2dc",
   "metadata": {},
   "outputs": [
    {
     "data": {
      "text/plain": [
       "'INDIA'"
      ]
     },
     "execution_count": 86,
     "metadata": {},
     "output_type": "execute_result"
    }
   ],
   "source": [
    "a.upper()"
   ]
  },
  {
   "cell_type": "code",
   "execution_count": 88,
   "id": "52bc8e22-6e67-4817-aed9-3a75f260622d",
   "metadata": {},
   "outputs": [
    {
     "data": {
      "text/plain": [
       "False"
      ]
     },
     "execution_count": 88,
     "metadata": {},
     "output_type": "execute_result"
    }
   ],
   "source": [
    "a.isdigit()"
   ]
  },
  {
   "cell_type": "code",
   "execution_count": 90,
   "id": "5a2fbc98-1a78-4c72-83bb-68841922e2d4",
   "metadata": {},
   "outputs": [
    {
     "data": {
      "text/plain": [
       "'INDIA'"
      ]
     },
     "execution_count": 90,
     "metadata": {},
     "output_type": "execute_result"
    }
   ],
   "source": [
    "d[107].upper()"
   ]
  },
  {
   "cell_type": "code",
   "execution_count": 94,
   "id": "7bd0c4f1-b721-4da9-978e-57f91a205484",
   "metadata": {},
   "outputs": [
    {
     "data": {
      "text/plain": [
       "'india'"
      ]
     },
     "execution_count": 94,
     "metadata": {},
     "output_type": "execute_result"
    }
   ],
   "source": [
    "d[107].lower()"
   ]
  },
  {
   "cell_type": "code",
   "execution_count": 97,
   "id": "9027526b-86eb-4567-9194-d243eea566c8",
   "metadata": {},
   "outputs": [
    {
     "data": {
      "text/plain": [
       "[1000, 2000, 3000, 4000]"
      ]
     },
     "execution_count": 97,
     "metadata": {},
     "output_type": "execute_result"
    }
   ],
   "source": [
    "d[104]"
   ]
  },
  {
   "cell_type": "code",
   "execution_count": 101,
   "id": "fc6c9fb6-5031-4d4c-9e87-1c023db943d2",
   "metadata": {},
   "outputs": [
    {
     "data": {
      "text/plain": [
       "{101: 200,\n",
       " 103: 'India',\n",
       " 106: 4000,\n",
       " 102: 600,\n",
       " 107: 'India',\n",
       " 104: [1000, 2000, 3000, 4000, 9000, 9000]}"
      ]
     },
     "execution_count": 101,
     "metadata": {},
     "output_type": "execute_result"
    }
   ],
   "source": [
    "d[104].append(9000)\n",
    "d"
   ]
  },
  {
   "cell_type": "code",
   "execution_count": 103,
   "id": "12ac4f15-89cc-4ece-a4b7-e9204eec2c2c",
   "metadata": {},
   "outputs": [
    {
     "data": {
      "text/plain": [
       "2"
      ]
     },
     "execution_count": 103,
     "metadata": {},
     "output_type": "execute_result"
    }
   ],
   "source": [
    "d[104].count(9000)  "
   ]
  },
  {
   "cell_type": "code",
   "execution_count": 105,
   "id": "3d03aa6b-cefc-4e01-8178-ae7beb608d2a",
   "metadata": {},
   "outputs": [
    {
     "data": {
      "text/plain": [
       "list"
      ]
     },
     "execution_count": 105,
     "metadata": {},
     "output_type": "execute_result"
    }
   ],
   "source": [
    "type(d[104])"
   ]
  },
  {
   "cell_type": "code",
   "execution_count": 111,
   "id": "60553291-72e0-4f9f-8a35-0c86864c40c9",
   "metadata": {},
   "outputs": [
    {
     "data": {
      "text/plain": [
       "{101: 200,\n",
       " 103: 'India',\n",
       " 106: 4000,\n",
       " 102: 600,\n",
       " 107: 'India',\n",
       " 104: [1000, 2000, 5500, 5500, 3000, 4000, 9000, 9000]}"
      ]
     },
     "execution_count": 111,
     "metadata": {},
     "output_type": "execute_result"
    }
   ],
   "source": [
    "d[104].insert(2,5500)\n",
    "d"
   ]
  },
  {
   "cell_type": "code",
   "execution_count": 113,
   "id": "4cec4167-df24-4322-8fc3-f42c9028711d",
   "metadata": {},
   "outputs": [
    {
     "data": {
      "text/plain": [
       "{101: 200,\n",
       " 103: 'India',\n",
       " 106: 4000,\n",
       " 102: 600,\n",
       " 107: 'India',\n",
       " 104: [1000, 2000, 5500, 5500, 3000, 3500, 4000, 9000, 9000]}"
      ]
     },
     "execution_count": 113,
     "metadata": {},
     "output_type": "execute_result"
    }
   ],
   "source": [
    "d[104].insert(5,3500)\n",
    "d"
   ]
  },
  {
   "cell_type": "code",
   "execution_count": 117,
   "id": "bbb4fced-1ab6-4535-99b8-3e6de6d2327e",
   "metadata": {},
   "outputs": [
    {
     "data": {
      "text/plain": [
       "{101: 200,\n",
       " 103: (30, 40, 50, 60, 70),\n",
       " 106: 4000,\n",
       " 102: 600,\n",
       " 107: 'India',\n",
       " 104: [1000, 2000, 5500, 5500, 3000, 3500, 4000, 9000, 9000]}"
      ]
     },
     "execution_count": 117,
     "metadata": {},
     "output_type": "execute_result"
    }
   ],
   "source": [
    "d.update({103:(30,40,50,60,70)})\n",
    "d"
   ]
  },
  {
   "cell_type": "code",
   "execution_count": 123,
   "id": "cab28426-244f-4272-82b8-513ecb7e4afd",
   "metadata": {},
   "outputs": [
    {
     "data": {
      "text/plain": [
       "{101: 200,\n",
       " 103: (30, 40, 50, 60, 70),\n",
       " 106: 4000,\n",
       " 102: 600,\n",
       " 107: 'India',\n",
       " 104: [1000, 2000, 5500, 5500, 3000, 3500, 4000, 9000, 9000, 90, 90]}"
      ]
     },
     "execution_count": 123,
     "metadata": {},
     "output_type": "execute_result"
    }
   ],
   "source": [
    "d[104].append(90)\n",
    "d"
   ]
  },
  {
   "cell_type": "code",
   "execution_count": 127,
   "id": "885f9648-5e22-4dc9-92b3-9d0261a1c3e1",
   "metadata": {},
   "outputs": [
    {
     "data": {
      "text/plain": [
       "{101: 200,\n",
       " 103: (30, 40, 50, 60, 70),\n",
       " 106: 4000,\n",
       " 102: 600,\n",
       " 107: 'INDIA',\n",
       " 104: [1000, 2000, 5500, 5500, 3000, 3500, 4000, 9000, 9000, 90, 90]}"
      ]
     },
     "execution_count": 127,
     "metadata": {},
     "output_type": "execute_result"
    }
   ],
   "source": [
    "d[107]=d[107].upper()\n",
    "d"
   ]
  },
  {
   "cell_type": "markdown",
   "id": "b5d6c271-f797-43ef-af63-fd5245f45e12",
   "metadata": {},
   "source": [
    "#### tuples and strings they cannnot be change bcz they r immutable"
   ]
  },
  {
   "cell_type": "code",
   "execution_count": 130,
   "id": "63404984-4820-4fd2-80a3-4def58675f79",
   "metadata": {},
   "outputs": [
    {
     "data": {
      "text/plain": [
       "tuple"
      ]
     },
     "execution_count": 130,
     "metadata": {},
     "output_type": "execute_result"
    }
   ],
   "source": [
    "type(d[103])"
   ]
  },
  {
   "cell_type": "code",
   "execution_count": 163,
   "id": "ca7329a8-d716-4e83-a68c-b7dafc4ba3e1",
   "metadata": {},
   "outputs": [
    {
     "data": {
      "text/plain": [
       "{103: (30, 40, 50, 60, 70),\n",
       " 106: 4000,\n",
       " 102: 600,\n",
       " 107: 'INDIA',\n",
       " 104: [1000, 2000, 5500, 5500, 3000, 3500, 4000, 9000, 9000, 90, 90],\n",
       " 105: {'a': {30, 50, 70},\n",
       "  'b': (1000, 5000, 7000, 9000),\n",
       "  'c': ['K', {'L': [11, 12], 'M': (77, 88)}, 'N']},\n",
       " 101: {50: [7, 8, 9, 10], 'apple': (20, 10, 70, [90, 180, 270])}}"
      ]
     },
     "execution_count": 163,
     "metadata": {},
     "output_type": "execute_result"
    }
   ],
   "source": [
    "d[101]={50:[7,8,9,10],'apple':(20,10,70,[90,180,270])}\n",
    "d"
   ]
  },
  {
   "cell_type": "code",
   "execution_count": 165,
   "id": "01191485-2962-4a6e-8ecc-2026ec2ec514",
   "metadata": {},
   "outputs": [
    {
     "data": {
      "text/plain": [
       "{103: (30, 40, 50, 60, 70),\n",
       " 106: 4000,\n",
       " 102: 600,\n",
       " 107: 'INDIA',\n",
       " 104: [1000, 2000, 5500, 5500, 3000, 3500, 4000, 9000, 9000, 90, 90],\n",
       " 105: {'a': {30, 50, 70},\n",
       "  'b': (1000, 5000, 7000, 9000),\n",
       "  'c': ['K', {'L': [11, 12], 'M': (77, 88)}, 'N']},\n",
       " 101: {50: [7, 8, 9, 10], 'apple': (20, 10, 70, [90, 180, 270])}}"
      ]
     },
     "execution_count": 165,
     "metadata": {},
     "output_type": "execute_result"
    }
   ],
   "source": [
    "d[105]={'a':{30,50,70},'b':(1000,5000,7000,9000),'c':['K',{'L':[11,12],'M':(77,88)},'N']}\n",
    "d"
   ]
  },
  {
   "cell_type": "code",
   "execution_count": 167,
   "id": "014728f9-b538-4cac-8e10-9532e9f2af7f",
   "metadata": {},
   "outputs": [
    {
     "data": {
      "text/plain": [
       "{103: (30, 40, 50, 60, 70),\n",
       " 106: 4000,\n",
       " 102: 600,\n",
       " 107: 'INDIA',\n",
       " 104: [1000, 2000, 5500, 5500, 3000, 3500, 4000, 9000, 9000, 90, 90],\n",
       " 105: {'a': {30, 50, 70},\n",
       "  'b': (1000, 5000, 7000, 9000),\n",
       "  'c': ['K', {'L': [11, 12], 'M': (77, 88)}, 'N']},\n",
       " 101: {50: [7, 8, 9, 10], 'apple': (20, 10, 70, [90, 180, 270])}}"
      ]
     },
     "execution_count": 167,
     "metadata": {},
     "output_type": "execute_result"
    }
   ],
   "source": [
    "d\n"
   ]
  },
  {
   "cell_type": "code",
   "execution_count": 169,
   "id": "aac8b9af-4516-4cde-abf1-7fa5056c817d",
   "metadata": {},
   "outputs": [
    {
     "data": {
      "text/plain": [
       "dict_keys([50, 'apple'])"
      ]
     },
     "execution_count": 169,
     "metadata": {},
     "output_type": "execute_result"
    }
   ],
   "source": [
    "d[101].keys()"
   ]
  },
  {
   "cell_type": "code",
   "execution_count": 171,
   "id": "00951986-5fe0-4203-a9cf-2b1de167f816",
   "metadata": {},
   "outputs": [
    {
     "data": {
      "text/plain": [
       "180"
      ]
     },
     "execution_count": 171,
     "metadata": {},
     "output_type": "execute_result"
    }
   ],
   "source": [
    "d[101]['apple'][3][1]"
   ]
  },
  {
   "cell_type": "code",
   "execution_count": 173,
   "id": "f09c778f-6ce7-41db-87a9-26348106c2c4",
   "metadata": {},
   "outputs": [
    {
     "data": {
      "text/plain": [
       "60"
      ]
     },
     "execution_count": 173,
     "metadata": {},
     "output_type": "execute_result"
    }
   ],
   "source": [
    "d[103][3]"
   ]
  },
  {
   "cell_type": "code",
   "execution_count": 177,
   "id": "688e33b3-850e-4be4-8fc2-899b1372d7ae",
   "metadata": {},
   "outputs": [
    {
     "data": {
      "text/plain": [
       "dict_keys(['a', 'b', 'c'])"
      ]
     },
     "execution_count": 177,
     "metadata": {},
     "output_type": "execute_result"
    }
   ],
   "source": [
    "d[105].keys()"
   ]
  },
  {
   "cell_type": "code",
   "execution_count": 179,
   "id": "1506756e-9234-45b6-b0a4-f5a8aee8d581",
   "metadata": {},
   "outputs": [
    {
     "data": {
      "text/plain": [
       "['K', {'L': [11, 12], 'M': (77, 88)}, 'N']"
      ]
     },
     "execution_count": 179,
     "metadata": {},
     "output_type": "execute_result"
    }
   ],
   "source": [
    "d[105]['c']"
   ]
  },
  {
   "cell_type": "code",
   "execution_count": 181,
   "id": "56096e29-b3f1-4c06-9af9-5c12998fe16b",
   "metadata": {},
   "outputs": [
    {
     "data": {
      "text/plain": [
       "88"
      ]
     },
     "execution_count": 181,
     "metadata": {},
     "output_type": "execute_result"
    }
   ],
   "source": [
    "d[105]['c'][1]['M'][1]"
   ]
  },
  {
   "cell_type": "markdown",
   "id": "3f8140aa-70e8-4aa1-b311-e9c2278dc830",
   "metadata": {},
   "source": [
    "# 9/1/25"
   ]
  },
  {
   "cell_type": "markdown",
   "id": "b5c437eb-c690-4cf5-9ede-83467a5b939e",
   "metadata": {},
   "source": [
    "if condition1:\n",
    "    task1 block of code\n",
    "elif condition2:\n",
    "    task2 block of code\n",
    "elif condition3:\n",
    "    task3 block of code\n",
    "    .\n",
    "    .\n",
    "    .\n",
    "elif condition n:\n",
    "    task n\n",
    "else:\n",
    "    task4 block of code"
   ]
  },
  {
   "cell_type": "code",
   "execution_count": 4,
   "id": "59aeffdb-74c7-42e5-8735-05c18dce52fb",
   "metadata": {},
   "outputs": [
    {
     "name": "stdout",
     "output_type": "stream",
     "text": [
      "odd\n"
     ]
    }
   ],
   "source": [
    "x=9\n",
    "if x%2==0:\n",
    "    print(\"Even\")\n",
    "else:\n",
    "    print(\"odd\")"
   ]
  },
  {
   "cell_type": "code",
   "execution_count": 8,
   "id": "c8a7eccb-1e78-4e19-8f3d-ec91e2e03aa6",
   "metadata": {},
   "outputs": [
    {
     "data": {
      "text/plain": [
       "True"
      ]
     },
     "execution_count": 8,
     "metadata": {},
     "output_type": "execute_result"
    }
   ],
   "source": [
    "x=0\n",
    "x%2==0"
   ]
  },
  {
   "cell_type": "markdown",
   "id": "c9052885-22dc-4273-bbb3-388373f7c1b3",
   "metadata": {},
   "source": [
    "wap to know number is positive negative or zero"
   ]
  },
  {
   "cell_type": "code",
   "execution_count": 15,
   "id": "65f06195-6150-4119-8932-ac2d22bf06ea",
   "metadata": {},
   "outputs": [
    {
     "name": "stdout",
     "output_type": "stream",
     "text": [
      "neg\n"
     ]
    }
   ],
   "source": [
    "x=-5.8\n",
    "if x>0:\n",
    "    print('pos')\n",
    "elif x<0:\n",
    "    print('neg')\n",
    "else:\n",
    "    print('zero')"
   ]
  },
  {
   "cell_type": "code",
   "execution_count": 29,
   "id": "9c8b7a93-27ae-41b9-835e-56f2e272e735",
   "metadata": {},
   "outputs": [
    {
     "name": "stdout",
     "output_type": "stream",
     "text": [
      "neg\n",
      "C\n"
     ]
    }
   ],
   "source": [
    "x=-5.0   #you can change the numbers as you wish\n",
    "if x>0:\n",
    "    print('pos')\n",
    "    if x>10:\n",
    "        print('M')\n",
    "    elif x>20:\n",
    "        print('P')\n",
    "    elif x<10:\n",
    "        print('K')\n",
    "    else:\n",
    "        print('T')\n",
    "elif x<0:\n",
    "    print('neg')\n",
    "    if x<-20:\n",
    "        print('Q')\n",
    "    elif x>-10:\n",
    "        print('C')\n",
    "    elif x>-30:\n",
    "        print('Z')\n",
    "else:\n",
    "    print('zero')"
   ]
  },
  {
   "cell_type": "code",
   "execution_count": 45,
   "id": "b108f8d4-7b28-473f-8849-44ac3a724cd8",
   "metadata": {},
   "outputs": [
    {
     "name": "stdout",
     "output_type": "stream",
     "text": [
      "yes\n"
     ]
    }
   ],
   "source": [
    "x='telangana'\n",
    "x='Tiger'\n",
    "x='Tan'\n",
    "if x[0]=='t' or x[0]=='T':\n",
    "    print ('yes')\n",
    "else:\n",
    "    print('No')"
   ]
  },
  {
   "cell_type": "code",
   "execution_count": 47,
   "id": "a3b5e99b-5779-4804-81cd-59561dd1b501",
   "metadata": {},
   "outputs": [
    {
     "name": "stdout",
     "output_type": "stream",
     "text": [
      "No\n"
     ]
    }
   ],
   "source": [
    "x='Lion'\n",
    "x='mumbai'\n",
    "if x[0]=='t' or x[0]=='T':\n",
    "    print ('yes')\n",
    "else:\n",
    "    print('No')"
   ]
  },
  {
   "cell_type": "code",
   "execution_count": 77,
   "id": "e523de1e-0bbc-4bb6-9798-aa2b287f3421",
   "metadata": {},
   "outputs": [
    {
     "name": "stdout",
     "output_type": "stream",
     "text": [
      "yes\n"
     ]
    }
   ],
   "source": [
    "x='onion'\n",
    "x='Stawberry'\n",
    "if x[0]=='t' or x[0]=='s' or x[0]=='m' or x[0]=='T' or x[0]=='S' or x[0]=='M':\n",
    "    print ('yes')\n",
    "else:\n",
    "    print ('No')"
   ]
  },
  {
   "cell_type": "code",
   "execution_count": 79,
   "id": "a1c60dfb-4695-4f25-87ae-c31f95188a87",
   "metadata": {},
   "outputs": [
    {
     "name": "stdout",
     "output_type": "stream",
     "text": [
      "Yes\n"
     ]
    }
   ],
   "source": [
    "if x[0].lower() in('s','m','h'):\n",
    "    print('Yes')\n",
    "else:\n",
    "    print('No')"
   ]
  },
  {
   "cell_type": "code",
   "execution_count": null,
   "id": "12544bf3-529f-4833-a947-d7f8b28d2969",
   "metadata": {},
   "outputs": [],
   "source": []
  },
  {
   "cell_type": "code",
   "execution_count": null,
   "id": "f2b9692c-4223-4c1a-a673-fdec197568f9",
   "metadata": {},
   "outputs": [],
   "source": []
  }
 ],
 "metadata": {
  "kernelspec": {
   "display_name": "Python [conda env:base] *",
   "language": "python",
   "name": "conda-base-py"
  },
  "language_info": {
   "codemirror_mode": {
    "name": "ipython",
    "version": 3
   },
   "file_extension": ".py",
   "mimetype": "text/x-python",
   "name": "python",
   "nbconvert_exporter": "python",
   "pygments_lexer": "ipython3",
   "version": "3.12.7"
  }
 },
 "nbformat": 4,
 "nbformat_minor": 5
}
