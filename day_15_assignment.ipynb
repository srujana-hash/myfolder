{
 "cells": [
  {
   "cell_type": "code",
   "execution_count": 15,
   "id": "ce019f87-3b9c-4215-aaee-4cff455e1d56",
   "metadata": {},
   "outputs": [
    {
     "data": {
      "text/html": [
       "<div>\n",
       "<style scoped>\n",
       "    .dataframe tbody tr th:only-of-type {\n",
       "        vertical-align: middle;\n",
       "    }\n",
       "\n",
       "    .dataframe tbody tr th {\n",
       "        vertical-align: top;\n",
       "    }\n",
       "\n",
       "    .dataframe thead th {\n",
       "        text-align: right;\n",
       "    }\n",
       "</style>\n",
       "<table border=\"1\" class=\"dataframe\">\n",
       "  <thead>\n",
       "    <tr style=\"text-align: right;\">\n",
       "      <th></th>\n",
       "      <th>Patient_ID</th>\n",
       "      <th>Age</th>\n",
       "      <th>Gender</th>\n",
       "      <th>Blood_Pressure</th>\n",
       "      <th>Cholesterol</th>\n",
       "      <th>Diabetes</th>\n",
       "      <th>Heart_Disease</th>\n",
       "    </tr>\n",
       "  </thead>\n",
       "  <tbody>\n",
       "    <tr>\n",
       "      <th>0</th>\n",
       "      <td>1</td>\n",
       "      <td>69</td>\n",
       "      <td>Male</td>\n",
       "      <td>95.0</td>\n",
       "      <td>122.0</td>\n",
       "      <td>No</td>\n",
       "      <td>No</td>\n",
       "    </tr>\n",
       "    <tr>\n",
       "      <th>1</th>\n",
       "      <td>2</td>\n",
       "      <td>32</td>\n",
       "      <td>Male</td>\n",
       "      <td>129.0</td>\n",
       "      <td>191.0</td>\n",
       "      <td>No</td>\n",
       "      <td>No</td>\n",
       "    </tr>\n",
       "    <tr>\n",
       "      <th>2</th>\n",
       "      <td>3</td>\n",
       "      <td>89</td>\n",
       "      <td>Female</td>\n",
       "      <td>101.0</td>\n",
       "      <td>214.0</td>\n",
       "      <td>No</td>\n",
       "      <td>No</td>\n",
       "    </tr>\n",
       "    <tr>\n",
       "      <th>3</th>\n",
       "      <td>4</td>\n",
       "      <td>78</td>\n",
       "      <td>Female</td>\n",
       "      <td>142.0</td>\n",
       "      <td>203.0</td>\n",
       "      <td>No</td>\n",
       "      <td>No</td>\n",
       "    </tr>\n",
       "    <tr>\n",
       "      <th>4</th>\n",
       "      <td>5</td>\n",
       "      <td>38</td>\n",
       "      <td>Male</td>\n",
       "      <td>160.0</td>\n",
       "      <td>217.0</td>\n",
       "      <td>No</td>\n",
       "      <td>No</td>\n",
       "    </tr>\n",
       "    <tr>\n",
       "      <th>...</th>\n",
       "      <td>...</td>\n",
       "      <td>...</td>\n",
       "      <td>...</td>\n",
       "      <td>...</td>\n",
       "      <td>...</td>\n",
       "      <td>...</td>\n",
       "      <td>...</td>\n",
       "    </tr>\n",
       "    <tr>\n",
       "      <th>500</th>\n",
       "      <td>47</td>\n",
       "      <td>25</td>\n",
       "      <td>Male</td>\n",
       "      <td>106.0</td>\n",
       "      <td>148.0</td>\n",
       "      <td>No</td>\n",
       "      <td>No</td>\n",
       "    </tr>\n",
       "    <tr>\n",
       "      <th>501</th>\n",
       "      <td>145</td>\n",
       "      <td>26</td>\n",
       "      <td>Male</td>\n",
       "      <td>128.0</td>\n",
       "      <td>116.0</td>\n",
       "      <td>No</td>\n",
       "      <td>No</td>\n",
       "    </tr>\n",
       "    <tr>\n",
       "      <th>502</th>\n",
       "      <td>213</td>\n",
       "      <td>86</td>\n",
       "      <td>Male</td>\n",
       "      <td>98.0</td>\n",
       "      <td>159.0</td>\n",
       "      <td>No</td>\n",
       "      <td>No</td>\n",
       "    </tr>\n",
       "    <tr>\n",
       "      <th>503</th>\n",
       "      <td>303</td>\n",
       "      <td>43</td>\n",
       "      <td>Male</td>\n",
       "      <td>171.0</td>\n",
       "      <td>243.0</td>\n",
       "      <td>No</td>\n",
       "      <td>No</td>\n",
       "    </tr>\n",
       "    <tr>\n",
       "      <th>504</th>\n",
       "      <td>137</td>\n",
       "      <td>79</td>\n",
       "      <td>Female</td>\n",
       "      <td>144.0</td>\n",
       "      <td>106.0</td>\n",
       "      <td>No</td>\n",
       "      <td>No</td>\n",
       "    </tr>\n",
       "  </tbody>\n",
       "</table>\n",
       "<p>505 rows × 7 columns</p>\n",
       "</div>"
      ],
      "text/plain": [
       "     Patient_ID  Age  Gender  Blood_Pressure  Cholesterol Diabetes  \\\n",
       "0             1   69    Male            95.0        122.0       No   \n",
       "1             2   32    Male           129.0        191.0       No   \n",
       "2             3   89  Female           101.0        214.0       No   \n",
       "3             4   78  Female           142.0        203.0       No   \n",
       "4             5   38    Male           160.0        217.0       No   \n",
       "..          ...  ...     ...             ...          ...      ...   \n",
       "500          47   25    Male           106.0        148.0       No   \n",
       "501         145   26    Male           128.0        116.0       No   \n",
       "502         213   86    Male            98.0        159.0       No   \n",
       "503         303   43    Male           171.0        243.0       No   \n",
       "504         137   79  Female           144.0        106.0       No   \n",
       "\n",
       "    Heart_Disease  \n",
       "0              No  \n",
       "1              No  \n",
       "2              No  \n",
       "3              No  \n",
       "4              No  \n",
       "..            ...  \n",
       "500            No  \n",
       "501            No  \n",
       "502            No  \n",
       "503            No  \n",
       "504            No  \n",
       "\n",
       "[505 rows x 7 columns]"
      ]
     },
     "execution_count": 15,
     "metadata": {},
     "output_type": "execute_result"
    }
   ],
   "source": [
    "import pandas as pd\n",
    "import seaborn as sns\n",
    "import matplotlib.pyplot as plt\n",
    "from sklearn.impute import KNNImputer\n",
    "df = pd.read_csv('Day_15_Healthcare_Data.csv')\n",
    "df"
   ]
  },
  {
   "cell_type": "code",
   "execution_count": 11,
   "id": "0369f2c9-d039-4282-84e5-8d39417e38e6",
   "metadata": {},
   "outputs": [
    {
     "name": "stdout",
     "output_type": "stream",
     "text": [
      "   Patient_ID  Age  Gender  Blood_Pressure  Cholesterol Diabetes Heart_Disease\n",
      "0           1   69    Male            95.0        122.0       No            No\n",
      "1           2   32    Male           129.0        191.0       No            No\n",
      "2           3   89  Female           101.0        214.0       No            No\n",
      "3           4   78  Female           142.0        203.0       No            No\n",
      "4           5   38    Male           160.0        217.0       No            No\n"
     ]
    }
   ],
   "source": [
    "print(df.head())"
   ]
  },
  {
   "cell_type": "code",
   "execution_count": 13,
   "id": "7ee218c3-12b3-4c9f-9561-5cb2a2c91edb",
   "metadata": {},
   "outputs": [
    {
     "name": "stdout",
     "output_type": "stream",
     "text": [
      "<class 'pandas.core.frame.DataFrame'>\n",
      "RangeIndex: 505 entries, 0 to 504\n",
      "Data columns (total 7 columns):\n",
      " #   Column          Non-Null Count  Dtype  \n",
      "---  ------          --------------  -----  \n",
      " 0   Patient_ID      505 non-null    int64  \n",
      " 1   Age             505 non-null    int64  \n",
      " 2   Gender          484 non-null    object \n",
      " 3   Blood_Pressure  475 non-null    float64\n",
      " 4   Cholesterol     485 non-null    float64\n",
      " 5   Diabetes        505 non-null    object \n",
      " 6   Heart_Disease   505 non-null    object \n",
      "dtypes: float64(2), int64(2), object(3)\n",
      "memory usage: 27.7+ KB\n",
      "None\n"
     ]
    }
   ],
   "source": [
    "print(df.info())"
   ]
  },
  {
   "cell_type": "code",
   "execution_count": 17,
   "id": "bd90a974-7d8d-4d10-ab55-d47911c9b4cd",
   "metadata": {},
   "outputs": [],
   "source": [
    "missing_values = df.isna().sum()"
   ]
  },
  {
   "cell_type": "code",
   "execution_count": 19,
   "id": "6439f9ee-3fe7-45f6-b5e9-61a14eaba77b",
   "metadata": {},
   "outputs": [
    {
     "data": {
      "text/plain": [
       "Patient_ID         0\n",
       "Age                0\n",
       "Gender            21\n",
       "Blood_Pressure    30\n",
       "Cholesterol       20\n",
       "Diabetes           0\n",
       "Heart_Disease      0\n",
       "dtype: int64"
      ]
     },
     "execution_count": 19,
     "metadata": {},
     "output_type": "execute_result"
    }
   ],
   "source": [
    "missing_values"
   ]
  },
  {
   "cell_type": "code",
   "execution_count": 21,
   "id": "4c731ae8-f2fe-4a73-84d8-520be3e9ecd1",
   "metadata": {},
   "outputs": [],
   "source": [
    "missing_percentage = (missing_values / len(df)) * 100"
   ]
  },
  {
   "cell_type": "code",
   "execution_count": 23,
   "id": "acfe716f-2d75-4e1b-bda9-081520e6a4eb",
   "metadata": {},
   "outputs": [
    {
     "data": {
      "text/plain": [
       "Patient_ID        0.000000\n",
       "Age               0.000000\n",
       "Gender            4.158416\n",
       "Blood_Pressure    5.940594\n",
       "Cholesterol       3.960396\n",
       "Diabetes          0.000000\n",
       "Heart_Disease     0.000000\n",
       "dtype: float64"
      ]
     },
     "execution_count": 23,
     "metadata": {},
     "output_type": "execute_result"
    }
   ],
   "source": [
    "missing_percentage"
   ]
  },
  {
   "cell_type": "code",
   "execution_count": 26,
   "id": "47b6be4d-02de-4692-8cf3-6bce7a651925",
   "metadata": {},
   "outputs": [
    {
     "data": {
      "image/png": "[encoded data removed]",
      "text/plain": [
       "<Figure size 640x480 with 1 Axes>"
      ]
     },
     "metadata": {},
     "output_type": "display_data"
    }
   ],
   "source": [
    "sns.heatmap(df.isna(), cbar=False, cmap='viridis')\n",
    "plt.show()"
   ]
  },
  {
   "cell_type": "code",
   "execution_count": null,
   "id": "eacdd5c6-85d5-4cc4-b112-11763b33fa47",
   "metadata": {},
   "outputs": [],
   "source": []
  }
 ],
 "metadata": {
  "kernelspec": {
   "display_name": "Python [conda env:base] *",
   "language": "python",
   "name": "conda-base-py"
  },
  "language_info": {
   "codemirror_mode": {
    "name": "ipython",
    "version": 3
   },
   "file_extension": ".py",
   "mimetype": "text/x-python",
   "name": "python",
   "nbconvert_exporter": "python",
   "pygments_lexer": "ipython3",
   "version": "3.12.7"
  }
 },
 "nbformat": 4,
 "nbformat_minor": 5
}
